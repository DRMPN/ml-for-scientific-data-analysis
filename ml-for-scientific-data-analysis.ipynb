{
 "cells": [
  {
   "cell_type": "code",
   "execution_count": 179,
   "metadata": {
    "_cell_guid": "b1076dfc-b9ad-4769-8c92-a6c4dae69d19",
    "_uuid": "8f2839f25d086af736a60e9eeb907d3b93b6e0e5",
    "execution": {
     "iopub.execute_input": "2024-12-11T20:11:13.150201Z",
     "iopub.status.busy": "2024-12-11T20:11:13.149803Z",
     "iopub.status.idle": "2024-12-11T20:11:13.157982Z",
     "shell.execute_reply": "2024-12-11T20:11:13.156536Z",
     "shell.execute_reply.started": "2024-12-11T20:11:13.150171Z"
    },
    "trusted": true
   },
   "outputs": [],
   "source": [
    "import numpy as np \n",
    "import pandas as pd\n",
    "import plotly.express as px\n",
    "import plotly.figure_factory as ff\n",
    "\n",
    "from category_encoders import TargetEncoder, BinaryEncoder\n",
    "\n",
    "from sklearn.preprocessing import StandardScaler, OrdinalEncoder, LabelEncoder\n",
    "from sklearn.metrics import f1_score, confusion_matrix\n",
    "from sklearn.model_selection import train_test_split\n",
    "from sklearn.linear_model import LogisticRegression"
   ]
  },
  {
   "cell_type": "markdown",
   "metadata": {},
   "source": [
    "# 1. Выбрать и обосновать метрику для измерения качества"
   ]
  },
  {
   "cell_type": "markdown",
   "metadata": {},
   "source": [
    "## Выбор метрики"
   ]
  },
  {
   "cell_type": "markdown",
   "metadata": {},
   "source": [
    "По описанию датасета можно сделать вывод, что решить придется задачу бинарной классификации.\n",
    "\n",
    "Для этих задач обычно используют несколько метрик - Accuracy, F1, AUC-ROC и др.\n",
    "Прежде чем сделать выбор в пользу той или иной, необходимо посмотреть на значение целевой переменной."
   ]
  },
  {
   "cell_type": "code",
   "execution_count": null,
   "metadata": {
    "execution": {
     "iopub.execute_input": "2024-12-11T20:11:13.183089Z",
     "iopub.status.busy": "2024-12-11T20:11:13.182679Z",
     "iopub.status.idle": "2024-12-11T20:11:13.219166Z",
     "shell.execute_reply": "2024-12-11T20:11:13.217741Z",
     "shell.execute_reply.started": "2024-12-11T20:11:13.183052Z"
    },
    "trusted": true
   },
   "outputs": [
    {
     "data": {
      "text/html": [
       "<div>\n",
       "<style scoped>\n",
       "    .dataframe tbody tr th:only-of-type {\n",
       "        vertical-align: middle;\n",
       "    }\n",
       "\n",
       "    .dataframe tbody tr th {\n",
       "        vertical-align: top;\n",
       "    }\n",
       "\n",
       "    .dataframe thead th {\n",
       "        text-align: right;\n",
       "    }\n",
       "</style>\n",
       "<table border=\"1\" class=\"dataframe\">\n",
       "  <thead>\n",
       "    <tr style=\"text-align: right;\">\n",
       "      <th></th>\n",
       "      <th>Name</th>\n",
       "      <th>Gender</th>\n",
       "      <th>Age</th>\n",
       "      <th>City</th>\n",
       "      <th>Working Professional or Student</th>\n",
       "      <th>Profession</th>\n",
       "      <th>Academic Pressure</th>\n",
       "      <th>Work Pressure</th>\n",
       "      <th>CGPA</th>\n",
       "      <th>Study Satisfaction</th>\n",
       "      <th>Job Satisfaction</th>\n",
       "      <th>Sleep Duration</th>\n",
       "      <th>Dietary Habits</th>\n",
       "      <th>Degree</th>\n",
       "      <th>Have you ever had suicidal thoughts ?</th>\n",
       "      <th>Work/Study Hours</th>\n",
       "      <th>Financial Stress</th>\n",
       "      <th>Family History of Mental Illness</th>\n",
       "      <th>Depression</th>\n",
       "    </tr>\n",
       "  </thead>\n",
       "  <tbody>\n",
       "    <tr>\n",
       "      <th>0</th>\n",
       "      <td>Pooja</td>\n",
       "      <td>Female</td>\n",
       "      <td>37</td>\n",
       "      <td>Ghaziabad</td>\n",
       "      <td>Working Professional</td>\n",
       "      <td>Teacher</td>\n",
       "      <td>NaN</td>\n",
       "      <td>2.0</td>\n",
       "      <td>NaN</td>\n",
       "      <td>NaN</td>\n",
       "      <td>4.0</td>\n",
       "      <td>7-8 hours</td>\n",
       "      <td>Moderate</td>\n",
       "      <td>MA</td>\n",
       "      <td>No</td>\n",
       "      <td>6</td>\n",
       "      <td>2</td>\n",
       "      <td>No</td>\n",
       "      <td>No</td>\n",
       "    </tr>\n",
       "    <tr>\n",
       "      <th>1</th>\n",
       "      <td>Reyansh</td>\n",
       "      <td>Male</td>\n",
       "      <td>60</td>\n",
       "      <td>Kalyan</td>\n",
       "      <td>Working Professional</td>\n",
       "      <td>Financial Analyst</td>\n",
       "      <td>NaN</td>\n",
       "      <td>4.0</td>\n",
       "      <td>NaN</td>\n",
       "      <td>NaN</td>\n",
       "      <td>3.0</td>\n",
       "      <td>5-6 hours</td>\n",
       "      <td>Unhealthy</td>\n",
       "      <td>B.Com</td>\n",
       "      <td>Yes</td>\n",
       "      <td>0</td>\n",
       "      <td>4</td>\n",
       "      <td>Yes</td>\n",
       "      <td>No</td>\n",
       "    </tr>\n",
       "    <tr>\n",
       "      <th>2</th>\n",
       "      <td>Manvi</td>\n",
       "      <td>Female</td>\n",
       "      <td>42</td>\n",
       "      <td>Bhopal</td>\n",
       "      <td>Working Professional</td>\n",
       "      <td>Teacher</td>\n",
       "      <td>NaN</td>\n",
       "      <td>2.0</td>\n",
       "      <td>NaN</td>\n",
       "      <td>NaN</td>\n",
       "      <td>3.0</td>\n",
       "      <td>5-6 hours</td>\n",
       "      <td>Moderate</td>\n",
       "      <td>M.Com</td>\n",
       "      <td>No</td>\n",
       "      <td>0</td>\n",
       "      <td>2</td>\n",
       "      <td>No</td>\n",
       "      <td>No</td>\n",
       "    </tr>\n",
       "    <tr>\n",
       "      <th>3</th>\n",
       "      <td>Isha</td>\n",
       "      <td>Female</td>\n",
       "      <td>44</td>\n",
       "      <td>Thane</td>\n",
       "      <td>Working Professional</td>\n",
       "      <td>Teacher</td>\n",
       "      <td>NaN</td>\n",
       "      <td>3.0</td>\n",
       "      <td>NaN</td>\n",
       "      <td>NaN</td>\n",
       "      <td>5.0</td>\n",
       "      <td>7-8 hours</td>\n",
       "      <td>Healthy</td>\n",
       "      <td>MD</td>\n",
       "      <td>Yes</td>\n",
       "      <td>1</td>\n",
       "      <td>2</td>\n",
       "      <td>Yes</td>\n",
       "      <td>No</td>\n",
       "    </tr>\n",
       "    <tr>\n",
       "      <th>4</th>\n",
       "      <td>Aarav</td>\n",
       "      <td>Male</td>\n",
       "      <td>48</td>\n",
       "      <td>Indore</td>\n",
       "      <td>Working Professional</td>\n",
       "      <td>UX/UI Designer</td>\n",
       "      <td>NaN</td>\n",
       "      <td>4.0</td>\n",
       "      <td>NaN</td>\n",
       "      <td>NaN</td>\n",
       "      <td>3.0</td>\n",
       "      <td>7-8 hours</td>\n",
       "      <td>Moderate</td>\n",
       "      <td>BE</td>\n",
       "      <td>Yes</td>\n",
       "      <td>6</td>\n",
       "      <td>5</td>\n",
       "      <td>Yes</td>\n",
       "      <td>No</td>\n",
       "    </tr>\n",
       "  </tbody>\n",
       "</table>\n",
       "</div>"
      ],
      "text/plain": [
       "      Name  Gender  Age       City Working Professional or Student  \\\n",
       "0    Pooja  Female   37  Ghaziabad            Working Professional   \n",
       "1  Reyansh    Male   60     Kalyan            Working Professional   \n",
       "2    Manvi  Female   42     Bhopal            Working Professional   \n",
       "3     Isha  Female   44      Thane            Working Professional   \n",
       "4    Aarav    Male   48     Indore            Working Professional   \n",
       "\n",
       "          Profession  Academic Pressure  Work Pressure  CGPA  \\\n",
       "0            Teacher                NaN            2.0   NaN   \n",
       "1  Financial Analyst                NaN            4.0   NaN   \n",
       "2            Teacher                NaN            2.0   NaN   \n",
       "3            Teacher                NaN            3.0   NaN   \n",
       "4     UX/UI Designer                NaN            4.0   NaN   \n",
       "\n",
       "   Study Satisfaction  Job Satisfaction Sleep Duration Dietary Habits Degree  \\\n",
       "0                 NaN               4.0      7-8 hours       Moderate     MA   \n",
       "1                 NaN               3.0      5-6 hours      Unhealthy  B.Com   \n",
       "2                 NaN               3.0      5-6 hours       Moderate  M.Com   \n",
       "3                 NaN               5.0      7-8 hours        Healthy     MD   \n",
       "4                 NaN               3.0      7-8 hours       Moderate     BE   \n",
       "\n",
       "  Have you ever had suicidal thoughts ?  Work/Study Hours  Financial Stress  \\\n",
       "0                                    No                 6                 2   \n",
       "1                                   Yes                 0                 4   \n",
       "2                                    No                 0                 2   \n",
       "3                                   Yes                 1                 2   \n",
       "4                                   Yes                 6                 5   \n",
       "\n",
       "  Family History of Mental Illness Depression  \n",
       "0                               No         No  \n",
       "1                              Yes         No  \n",
       "2                               No         No  \n",
       "3                              Yes         No  \n",
       "4                              Yes         No  "
      ]
     },
     "execution_count": 180,
     "metadata": {},
     "output_type": "execute_result"
    }
   ],
   "source": [
    "# Загружаем датасет\n",
    "df = pd.read_csv(\"./final_depression_dataset_1.csv\")\n",
    "df.head()"
   ]
  },
  {
   "cell_type": "markdown",
   "metadata": {},
   "source": [
    "## Обоснование метрики"
   ]
  },
  {
   "cell_type": "markdown",
   "metadata": {},
   "source": [
    "Посмотрим на распределение классов для целевой переменной."
   ]
  },
  {
   "cell_type": "code",
   "execution_count": 181,
   "metadata": {
    "execution": {
     "iopub.execute_input": "2024-12-11T20:11:13.222707Z",
     "iopub.status.busy": "2024-12-11T20:11:13.221768Z",
     "iopub.status.idle": "2024-12-11T20:11:13.234279Z",
     "shell.execute_reply": "2024-12-11T20:11:13.232800Z",
     "shell.execute_reply.started": "2024-12-11T20:11:13.222637Z"
    },
    "trusted": true
   },
   "outputs": [
    {
     "data": {
      "text/plain": [
       "Depression\n",
       "No     0.821987\n",
       "Yes    0.178013\n",
       "Name: count, dtype: float64"
      ]
     },
     "execution_count": 181,
     "metadata": {},
     "output_type": "execute_result"
    }
   ],
   "source": [
    "class_counts = df['Depression'].value_counts()\n",
    "total_counts = len(df)\n",
    "(class_counts / total_counts) * 1"
   ]
  },
  {
   "cell_type": "markdown",
   "metadata": {},
   "source": [
    "Из полученных значений видно, что наблюдается дисбаланс классов. Метрика accuracy в данном случае нам точно не подойдет. Можно сделать выбор в пользу F1 меры т.к. она хорошо подходит для датасетов с несбалансированной целевой переменной. "
   ]
  },
  {
   "cell_type": "markdown",
   "metadata": {},
   "source": [
    "# 2. Провести EDA на своих данных"
   ]
  },
  {
   "cell_type": "markdown",
   "metadata": {},
   "source": [
    "## Базовые характеристики"
   ]
  },
  {
   "cell_type": "markdown",
   "metadata": {},
   "source": [
    "Рассмотрим базовые характеристики датасета.  \n",
    "Посмотрим размерность датасета и типы данных в столбцах."
   ]
  },
  {
   "cell_type": "code",
   "execution_count": 182,
   "metadata": {
    "execution": {
     "iopub.execute_input": "2024-12-11T20:11:13.241680Z",
     "iopub.status.busy": "2024-12-11T20:11:13.239916Z",
     "iopub.status.idle": "2024-12-11T20:11:13.261098Z",
     "shell.execute_reply": "2024-12-11T20:11:13.259507Z",
     "shell.execute_reply.started": "2024-12-11T20:11:13.241629Z"
    },
    "trusted": true
   },
   "outputs": [
    {
     "name": "stdout",
     "output_type": "stream",
     "text": [
      "(2556, 19)\n"
     ]
    },
    {
     "data": {
      "text/plain": [
       "Name                                      object\n",
       "Gender                                    object\n",
       "Age                                        int64\n",
       "City                                      object\n",
       "Working Professional or Student           object\n",
       "Profession                                object\n",
       "Academic Pressure                        float64\n",
       "Work Pressure                            float64\n",
       "CGPA                                     float64\n",
       "Study Satisfaction                       float64\n",
       "Job Satisfaction                         float64\n",
       "Sleep Duration                            object\n",
       "Dietary Habits                            object\n",
       "Degree                                    object\n",
       "Have you ever had suicidal thoughts ?     object\n",
       "Work/Study Hours                           int64\n",
       "Financial Stress                           int64\n",
       "Family History of Mental Illness          object\n",
       "Depression                                object\n",
       "dtype: object"
      ]
     },
     "execution_count": 182,
     "metadata": {},
     "output_type": "execute_result"
    }
   ],
   "source": [
    "print(df.shape)\n",
    "df.dtypes"
   ]
  },
  {
   "cell_type": "markdown",
   "metadata": {},
   "source": [
    "Можно заметить, что датасет не очень большой. Есть определенное количество категориальных признаков, которые придется обработать в дальнейшем."
   ]
  },
  {
   "cell_type": "code",
   "execution_count": 183,
   "metadata": {
    "execution": {
     "iopub.execute_input": "2024-12-11T20:11:13.270678Z",
     "iopub.status.busy": "2024-12-11T20:11:13.270223Z",
     "iopub.status.idle": "2024-12-11T20:11:13.285850Z",
     "shell.execute_reply": "2024-12-11T20:11:13.284534Z",
     "shell.execute_reply.started": "2024-12-11T20:11:13.270642Z"
    },
    "trusted": true
   },
   "outputs": [
    {
     "data": {
      "text/plain": [
       "0"
      ]
     },
     "execution_count": 183,
     "metadata": {},
     "output_type": "execute_result"
    }
   ],
   "source": [
    "# Посмотрим на количество дубликатов\n",
    "df.duplicated().sum()"
   ]
  },
  {
   "cell_type": "markdown",
   "metadata": {},
   "source": [
    "Выделим целевую переменную. Разделим данные на численные и категориальные."
   ]
  },
  {
   "cell_type": "code",
   "execution_count": 184,
   "metadata": {
    "execution": {
     "iopub.execute_input": "2024-12-11T20:11:13.288274Z",
     "iopub.status.busy": "2024-12-11T20:11:13.287817Z",
     "iopub.status.idle": "2024-12-11T20:11:13.300007Z",
     "shell.execute_reply": "2024-12-11T20:11:13.297966Z",
     "shell.execute_reply.started": "2024-12-11T20:11:13.288212Z"
    },
    "trusted": true
   },
   "outputs": [],
   "source": [
    "target_column=df[\"Depression\"]\n",
    "categorical_columns = df.select_dtypes(include=['object']).columns.drop(target_column.name)\n",
    "numerical_columns = df.select_dtypes(exclude=['object']).columns"
   ]
  },
  {
   "cell_type": "code",
   "execution_count": 185,
   "metadata": {
    "execution": {
     "iopub.execute_input": "2024-12-11T20:11:13.314622Z",
     "iopub.status.busy": "2024-12-11T20:11:13.313119Z",
     "iopub.status.idle": "2024-12-11T20:11:13.325942Z",
     "shell.execute_reply": "2024-12-11T20:11:13.323852Z",
     "shell.execute_reply.started": "2024-12-11T20:11:13.314561Z"
    },
    "trusted": true
   },
   "outputs": [
    {
     "name": "stdout",
     "output_type": "stream",
     "text": [
      "Categorical:  ['Name', 'Gender', 'City', 'Working Professional or Student', 'Profession', 'Sleep Duration', 'Dietary Habits', 'Degree', 'Have you ever had suicidal thoughts ?', 'Family History of Mental Illness']\n",
      "\n",
      "Numerical:  ['Age', 'Academic Pressure', 'Work Pressure', 'CGPA', 'Study Satisfaction', 'Job Satisfaction', 'Work/Study Hours', 'Financial Stress']\n"
     ]
    }
   ],
   "source": [
    "print(\"Categorical: \", categorical_columns.tolist())\n",
    "print()\n",
    "print(\"Numerical: \",numerical_columns.tolist())"
   ]
  },
  {
   "cell_type": "markdown",
   "metadata": {},
   "source": [
    "### Категориальные признаки"
   ]
  },
  {
   "cell_type": "markdown",
   "metadata": {},
   "source": [
    "Выведем количество пропусков."
   ]
  },
  {
   "cell_type": "code",
   "execution_count": 186,
   "metadata": {
    "execution": {
     "iopub.execute_input": "2024-12-11T20:11:13.337936Z",
     "iopub.status.busy": "2024-12-11T20:11:13.337070Z",
     "iopub.status.idle": "2024-12-11T20:11:13.352519Z",
     "shell.execute_reply": "2024-12-11T20:11:13.351329Z",
     "shell.execute_reply.started": "2024-12-11T20:11:13.337893Z"
    },
    "trusted": true
   },
   "outputs": [
    {
     "data": {
      "text/plain": [
       "Name                                       0\n",
       "Gender                                     0\n",
       "City                                       0\n",
       "Working Professional or Student            0\n",
       "Profession                               673\n",
       "Sleep Duration                             0\n",
       "Dietary Habits                             0\n",
       "Degree                                     0\n",
       "Have you ever had suicidal thoughts ?      0\n",
       "Family History of Mental Illness           0\n",
       "dtype: int64"
      ]
     },
     "execution_count": 186,
     "metadata": {},
     "output_type": "execute_result"
    }
   ],
   "source": [
    "df[categorical_columns].isnull().sum()"
   ]
  },
  {
   "cell_type": "markdown",
   "metadata": {},
   "source": [
    "Только Profession имеет пропуски. На данном этапе признак может считаться важным, поэтому не стоит его отбрасывать.  "
   ]
  },
  {
   "cell_type": "markdown",
   "metadata": {},
   "source": [
    "Отобразим количество уникальных значений для каждого из категориального признака."
   ]
  },
  {
   "cell_type": "code",
   "execution_count": 187,
   "metadata": {
    "execution": {
     "iopub.execute_input": "2024-12-11T20:11:13.365986Z",
     "iopub.status.busy": "2024-12-11T20:11:13.365552Z",
     "iopub.status.idle": "2024-12-11T20:11:13.376155Z",
     "shell.execute_reply": "2024-12-11T20:11:13.374752Z",
     "shell.execute_reply.started": "2024-12-11T20:11:13.365950Z"
    },
    "trusted": true
   },
   "outputs": [
    {
     "name": "stdout",
     "output_type": "stream",
     "text": [
      "'Name' has 216 unique categories.\n",
      "'Gender' has 2 unique categories.\n",
      "'City' has 30 unique categories.\n",
      "'Working Professional or Student' has 2 unique categories.\n",
      "'Profession' has 35 unique categories.\n",
      "'Sleep Duration' has 4 unique categories.\n",
      "'Dietary Habits' has 3 unique categories.\n",
      "'Degree' has 27 unique categories.\n",
      "'Have you ever had suicidal thoughts ?' has 2 unique categories.\n",
      "'Family History of Mental Illness' has 2 unique categories.\n"
     ]
    }
   ],
   "source": [
    "for column in categorical_columns:\n",
    "    num_unique = df[column].nunique()\n",
    "    print(f\"'{column}' has {num_unique} unique categories.\")"
   ]
  },
  {
   "cell_type": "markdown",
   "metadata": {},
   "source": [
    "Как видно, Name имеет высокую кардинальность. Она не достаточно полезная для предсказания модели, поэтому ее можно удалить или попробовать преобразовать.\n",
    "\n",
    "City и Profession имеют среднюю кардинальность и могут являться достаточно полезными, поэтому стоит использовать правильное кодирование для этих признаков.\n",
    "\n",
    "Sleep Duration, Dietary Habits и Degree являются ordinal категориями и должны быть закодированы с использованием ordinal encoding.\n",
    "\n",
    "Признаки, содержащие только 2 уникальных значения являются бинарными и их легко можно закодировать. "
   ]
  },
  {
   "cell_type": "markdown",
   "metadata": {},
   "source": [
    "### Численные признаки"
   ]
  },
  {
   "cell_type": "markdown",
   "metadata": {},
   "source": [
    "Отобразим сводную статистику по численным признакам. "
   ]
  },
  {
   "cell_type": "code",
   "execution_count": 188,
   "metadata": {
    "execution": {
     "iopub.execute_input": "2024-12-11T20:11:13.398511Z",
     "iopub.status.busy": "2024-12-11T20:11:13.397071Z",
     "iopub.status.idle": "2024-12-11T20:11:13.409438Z",
     "shell.execute_reply": "2024-12-11T20:11:13.408200Z",
     "shell.execute_reply.started": "2024-12-11T20:11:13.398462Z"
    },
    "trusted": true
   },
   "outputs": [
    {
     "data": {
      "text/plain": [
       "Age                      0\n",
       "Academic Pressure     2054\n",
       "Work Pressure          502\n",
       "CGPA                  2054\n",
       "Study Satisfaction    2054\n",
       "Job Satisfaction       502\n",
       "Work/Study Hours         0\n",
       "Financial Stress         0\n",
       "dtype: int64"
      ]
     },
     "execution_count": 188,
     "metadata": {},
     "output_type": "execute_result"
    }
   ],
   "source": [
    "df[numerical_columns].isnull().sum()"
   ]
  },
  {
   "cell_type": "markdown",
   "metadata": {},
   "source": [
    "Наблюдаем большое количество данных с пропусками. Необходимо провести предобработку для них. Например, можно заполнить пропуски mean/median значениями."
   ]
  },
  {
   "cell_type": "code",
   "execution_count": 189,
   "metadata": {
    "execution": {
     "iopub.execute_input": "2024-12-11T20:11:13.429144Z",
     "iopub.status.busy": "2024-12-11T20:11:13.428763Z",
     "iopub.status.idle": "2024-12-11T20:11:13.473323Z",
     "shell.execute_reply": "2024-12-11T20:11:13.471960Z",
     "shell.execute_reply.started": "2024-12-11T20:11:13.429113Z"
    },
    "trusted": true
   },
   "outputs": [
    {
     "data": {
      "text/html": [
       "<div>\n",
       "<style scoped>\n",
       "    .dataframe tbody tr th:only-of-type {\n",
       "        vertical-align: middle;\n",
       "    }\n",
       "\n",
       "    .dataframe tbody tr th {\n",
       "        vertical-align: top;\n",
       "    }\n",
       "\n",
       "    .dataframe thead th {\n",
       "        text-align: right;\n",
       "    }\n",
       "</style>\n",
       "<table border=\"1\" class=\"dataframe\">\n",
       "  <thead>\n",
       "    <tr style=\"text-align: right;\">\n",
       "      <th></th>\n",
       "      <th>count</th>\n",
       "      <th>mean</th>\n",
       "      <th>std</th>\n",
       "      <th>min</th>\n",
       "      <th>25%</th>\n",
       "      <th>50%</th>\n",
       "      <th>75%</th>\n",
       "      <th>max</th>\n",
       "    </tr>\n",
       "  </thead>\n",
       "  <tbody>\n",
       "    <tr>\n",
       "      <th>Age</th>\n",
       "      <td>2556.0</td>\n",
       "      <td>39.043036</td>\n",
       "      <td>12.260596</td>\n",
       "      <td>18.00</td>\n",
       "      <td>28.00</td>\n",
       "      <td>39.000</td>\n",
       "      <td>50.000</td>\n",
       "      <td>60.0</td>\n",
       "    </tr>\n",
       "    <tr>\n",
       "      <th>Academic Pressure</th>\n",
       "      <td>502.0</td>\n",
       "      <td>3.003984</td>\n",
       "      <td>1.390007</td>\n",
       "      <td>1.00</td>\n",
       "      <td>2.00</td>\n",
       "      <td>3.000</td>\n",
       "      <td>4.000</td>\n",
       "      <td>5.0</td>\n",
       "    </tr>\n",
       "    <tr>\n",
       "      <th>Work Pressure</th>\n",
       "      <td>2054.0</td>\n",
       "      <td>3.021908</td>\n",
       "      <td>1.417312</td>\n",
       "      <td>1.00</td>\n",
       "      <td>2.00</td>\n",
       "      <td>3.000</td>\n",
       "      <td>4.000</td>\n",
       "      <td>5.0</td>\n",
       "    </tr>\n",
       "    <tr>\n",
       "      <th>CGPA</th>\n",
       "      <td>502.0</td>\n",
       "      <td>7.567809</td>\n",
       "      <td>1.465367</td>\n",
       "      <td>5.03</td>\n",
       "      <td>6.21</td>\n",
       "      <td>7.605</td>\n",
       "      <td>8.825</td>\n",
       "      <td>10.0</td>\n",
       "    </tr>\n",
       "    <tr>\n",
       "      <th>Study Satisfaction</th>\n",
       "      <td>502.0</td>\n",
       "      <td>3.075697</td>\n",
       "      <td>1.373490</td>\n",
       "      <td>1.00</td>\n",
       "      <td>2.00</td>\n",
       "      <td>3.000</td>\n",
       "      <td>4.000</td>\n",
       "      <td>5.0</td>\n",
       "    </tr>\n",
       "    <tr>\n",
       "      <th>Job Satisfaction</th>\n",
       "      <td>2054.0</td>\n",
       "      <td>3.015093</td>\n",
       "      <td>1.418432</td>\n",
       "      <td>1.00</td>\n",
       "      <td>2.00</td>\n",
       "      <td>3.000</td>\n",
       "      <td>4.000</td>\n",
       "      <td>5.0</td>\n",
       "    </tr>\n",
       "    <tr>\n",
       "      <th>Work/Study Hours</th>\n",
       "      <td>2556.0</td>\n",
       "      <td>6.023865</td>\n",
       "      <td>3.771743</td>\n",
       "      <td>0.00</td>\n",
       "      <td>3.00</td>\n",
       "      <td>6.000</td>\n",
       "      <td>9.000</td>\n",
       "      <td>12.0</td>\n",
       "    </tr>\n",
       "    <tr>\n",
       "      <th>Financial Stress</th>\n",
       "      <td>2556.0</td>\n",
       "      <td>2.968701</td>\n",
       "      <td>1.415527</td>\n",
       "      <td>1.00</td>\n",
       "      <td>2.00</td>\n",
       "      <td>3.000</td>\n",
       "      <td>4.000</td>\n",
       "      <td>5.0</td>\n",
       "    </tr>\n",
       "  </tbody>\n",
       "</table>\n",
       "</div>"
      ],
      "text/plain": [
       "                     count       mean        std    min    25%     50%  \\\n",
       "Age                 2556.0  39.043036  12.260596  18.00  28.00  39.000   \n",
       "Academic Pressure    502.0   3.003984   1.390007   1.00   2.00   3.000   \n",
       "Work Pressure       2054.0   3.021908   1.417312   1.00   2.00   3.000   \n",
       "CGPA                 502.0   7.567809   1.465367   5.03   6.21   7.605   \n",
       "Study Satisfaction   502.0   3.075697   1.373490   1.00   2.00   3.000   \n",
       "Job Satisfaction    2054.0   3.015093   1.418432   1.00   2.00   3.000   \n",
       "Work/Study Hours    2556.0   6.023865   3.771743   0.00   3.00   6.000   \n",
       "Financial Stress    2556.0   2.968701   1.415527   1.00   2.00   3.000   \n",
       "\n",
       "                       75%   max  \n",
       "Age                 50.000  60.0  \n",
       "Academic Pressure    4.000   5.0  \n",
       "Work Pressure        4.000   5.0  \n",
       "CGPA                 8.825  10.0  \n",
       "Study Satisfaction   4.000   5.0  \n",
       "Job Satisfaction     4.000   5.0  \n",
       "Work/Study Hours     9.000  12.0  \n",
       "Financial Stress     4.000   5.0  "
      ]
     },
     "execution_count": 189,
     "metadata": {},
     "output_type": "execute_result"
    }
   ],
   "source": [
    "df[numerical_columns].describe().T"
   ]
  },
  {
   "cell_type": "markdown",
   "metadata": {},
   "source": [
    "Можно произвести нормализацию данных. Например, подойдет и StandardScaler, однако можно воспользоваться и MinMaxScaler."
   ]
  },
  {
   "cell_type": "markdown",
   "metadata": {},
   "source": [
    "## Визуализация"
   ]
  },
  {
   "cell_type": "code",
   "execution_count": 190,
   "metadata": {
    "execution": {
     "iopub.execute_input": "2024-12-11T20:11:13.476113Z",
     "iopub.status.busy": "2024-12-11T20:11:13.475526Z",
     "iopub.status.idle": "2024-12-11T20:11:13.589673Z",
     "shell.execute_reply": "2024-12-11T20:11:13.587628Z",
     "shell.execute_reply.started": "2024-12-11T20:11:13.476074Z"
    },
    "trusted": true
   },
   "outputs": [
    {
     "data": {
      "text/html": [
       "<iframe\n",
       "    scrolling=\"no\"\n",
       "    width=\"100%\"\n",
       "    height=\"545px\"\n",
       "    src=\"iframe_figures/figure_190.html\"\n",
       "    frameborder=\"0\"\n",
       "    allowfullscreen\n",
       "></iframe>\n"
      ]
     },
     "metadata": {},
     "output_type": "display_data"
    }
   ],
   "source": [
    "target_counts = target_column.value_counts()\n",
    "fig = px.pie(values=target_counts, names=target_counts.index, title='Распределение риска депрессии')\n",
    "fig.show(renderer='iframe')"
   ]
  },
  {
   "cell_type": "code",
   "execution_count": 191,
   "metadata": {
    "execution": {
     "iopub.execute_input": "2024-12-11T20:11:13.592206Z",
     "iopub.status.busy": "2024-12-11T20:11:13.591771Z",
     "iopub.status.idle": "2024-12-11T20:11:13.694519Z",
     "shell.execute_reply": "2024-12-11T20:11:13.692557Z",
     "shell.execute_reply.started": "2024-12-11T20:11:13.592170Z"
    },
    "trusted": true
   },
   "outputs": [
    {
     "data": {
      "text/html": [
       "<iframe\n",
       "    scrolling=\"no\"\n",
       "    width=\"100%\"\n",
       "    height=\"545px\"\n",
       "    src=\"iframe_figures/figure_191.html\"\n",
       "    frameborder=\"0\"\n",
       "    allowfullscreen\n",
       "></iframe>\n"
      ]
     },
     "metadata": {},
     "output_type": "display_data"
    }
   ],
   "source": [
    "gender_counts = df[\"Gender\"].value_counts()\n",
    "fig = px.pie(values=gender_counts, names=gender_counts.index, title='Распределение по полу')\n",
    "fig.show(renderer='iframe')"
   ]
  },
  {
   "cell_type": "code",
   "execution_count": 192,
   "metadata": {
    "execution": {
     "iopub.execute_input": "2024-12-11T20:11:13.696507Z",
     "iopub.status.busy": "2024-12-11T20:11:13.696015Z",
     "iopub.status.idle": "2024-12-11T20:11:13.814143Z",
     "shell.execute_reply": "2024-12-11T20:11:13.812943Z",
     "shell.execute_reply.started": "2024-12-11T20:11:13.696460Z"
    },
    "trusted": true
   },
   "outputs": [
    {
     "data": {
      "text/html": [
       "<iframe\n",
       "    scrolling=\"no\"\n",
       "    width=\"100%\"\n",
       "    height=\"545px\"\n",
       "    src=\"iframe_figures/figure_192.html\"\n",
       "    frameborder=\"0\"\n",
       "    allowfullscreen\n",
       "></iframe>\n"
      ]
     },
     "metadata": {},
     "output_type": "display_data"
    }
   ],
   "source": [
    "fig = px.histogram(df, x='Gender', color='Depression', barmode='group', title='Распределение риска депрессии по полу')\n",
    "fig.show(renderer='iframe')"
   ]
  },
  {
   "cell_type": "code",
   "execution_count": 193,
   "metadata": {
    "execution": {
     "iopub.execute_input": "2024-12-11T20:11:13.817058Z",
     "iopub.status.busy": "2024-12-11T20:11:13.816687Z",
     "iopub.status.idle": "2024-12-11T20:11:13.929736Z",
     "shell.execute_reply": "2024-12-11T20:11:13.928268Z",
     "shell.execute_reply.started": "2024-12-11T20:11:13.817024Z"
    },
    "trusted": true
   },
   "outputs": [
    {
     "data": {
      "text/html": [
       "<iframe\n",
       "    scrolling=\"no\"\n",
       "    width=\"100%\"\n",
       "    height=\"545px\"\n",
       "    src=\"iframe_figures/figure_193.html\"\n",
       "    frameborder=\"0\"\n",
       "    allowfullscreen\n",
       "></iframe>\n"
      ]
     },
     "metadata": {},
     "output_type": "display_data"
    }
   ],
   "source": [
    "fig = px.histogram(df, x='Age', color='Depression', barmode='group', title='Распределение риска депрессии по возрасту')\n",
    "fig.show(renderer='iframe')"
   ]
  },
  {
   "cell_type": "code",
   "execution_count": 194,
   "metadata": {
    "execution": {
     "iopub.execute_input": "2024-12-11T20:11:13.932536Z",
     "iopub.status.busy": "2024-12-11T20:11:13.931936Z",
     "iopub.status.idle": "2024-12-11T20:11:14.048487Z",
     "shell.execute_reply": "2024-12-11T20:11:14.047154Z",
     "shell.execute_reply.started": "2024-12-11T20:11:13.932489Z"
    },
    "trusted": true
   },
   "outputs": [
    {
     "data": {
      "text/html": [
       "<iframe\n",
       "    scrolling=\"no\"\n",
       "    width=\"100%\"\n",
       "    height=\"545px\"\n",
       "    src=\"iframe_figures/figure_194.html\"\n",
       "    frameborder=\"0\"\n",
       "    allowfullscreen\n",
       "></iframe>\n"
      ]
     },
     "metadata": {},
     "output_type": "display_data"
    }
   ],
   "source": [
    "fig = px.histogram(df, x='City', color='Depression', barmode='group', title='Распределение риска депрессии по городу')\n",
    "fig.show(renderer='iframe')"
   ]
  },
  {
   "cell_type": "code",
   "execution_count": 195,
   "metadata": {
    "execution": {
     "iopub.execute_input": "2024-12-11T20:11:14.050390Z",
     "iopub.status.busy": "2024-12-11T20:11:14.049953Z",
     "iopub.status.idle": "2024-12-11T20:11:14.168962Z",
     "shell.execute_reply": "2024-12-11T20:11:14.166843Z",
     "shell.execute_reply.started": "2024-12-11T20:11:14.050354Z"
    },
    "trusted": true
   },
   "outputs": [
    {
     "data": {
      "text/html": [
       "<iframe\n",
       "    scrolling=\"no\"\n",
       "    width=\"100%\"\n",
       "    height=\"545px\"\n",
       "    src=\"iframe_figures/figure_195.html\"\n",
       "    frameborder=\"0\"\n",
       "    allowfullscreen\n",
       "></iframe>\n"
      ]
     },
     "metadata": {},
     "output_type": "display_data"
    }
   ],
   "source": [
    "fig = px.histogram(df, x='Working Professional or Student', color='Depression', barmode='group', title='Распределение риска депрессии по виду занятости')\n",
    "fig.show(renderer='iframe')"
   ]
  },
  {
   "cell_type": "code",
   "execution_count": 196,
   "metadata": {
    "execution": {
     "iopub.execute_input": "2024-12-11T20:11:14.170975Z",
     "iopub.status.busy": "2024-12-11T20:11:14.170375Z",
     "iopub.status.idle": "2024-12-11T20:11:14.288334Z",
     "shell.execute_reply": "2024-12-11T20:11:14.286843Z",
     "shell.execute_reply.started": "2024-12-11T20:11:14.170929Z"
    },
    "trusted": true
   },
   "outputs": [
    {
     "data": {
      "text/html": [
       "<iframe\n",
       "    scrolling=\"no\"\n",
       "    width=\"100%\"\n",
       "    height=\"545px\"\n",
       "    src=\"iframe_figures/figure_196.html\"\n",
       "    frameborder=\"0\"\n",
       "    allowfullscreen\n",
       "></iframe>\n"
      ]
     },
     "metadata": {},
     "output_type": "display_data"
    }
   ],
   "source": [
    "fig = px.histogram(df, x='Profession', color='Depression', barmode='group', title='Распределение риска депрессии по профессии')\n",
    "fig.show(renderer='iframe')"
   ]
  },
  {
   "cell_type": "code",
   "execution_count": 197,
   "metadata": {
    "execution": {
     "iopub.execute_input": "2024-12-11T20:11:14.289956Z",
     "iopub.status.busy": "2024-12-11T20:11:14.289509Z",
     "iopub.status.idle": "2024-12-11T20:11:14.398071Z",
     "shell.execute_reply": "2024-12-11T20:11:14.396837Z",
     "shell.execute_reply.started": "2024-12-11T20:11:14.289907Z"
    },
    "trusted": true
   },
   "outputs": [
    {
     "data": {
      "text/html": [
       "<iframe\n",
       "    scrolling=\"no\"\n",
       "    width=\"100%\"\n",
       "    height=\"545px\"\n",
       "    src=\"iframe_figures/figure_197.html\"\n",
       "    frameborder=\"0\"\n",
       "    allowfullscreen\n",
       "></iframe>\n"
      ]
     },
     "metadata": {},
     "output_type": "display_data"
    }
   ],
   "source": [
    "fig = px.histogram(df, x='Academic Pressure', color='Depression', barmode='group', title='Распределение риска депрессии по академической загруженности')\n",
    "fig.show(renderer='iframe')"
   ]
  },
  {
   "cell_type": "code",
   "execution_count": 198,
   "metadata": {
    "execution": {
     "iopub.execute_input": "2024-12-11T20:11:14.400401Z",
     "iopub.status.busy": "2024-12-11T20:11:14.399902Z",
     "iopub.status.idle": "2024-12-11T20:11:14.512211Z",
     "shell.execute_reply": "2024-12-11T20:11:14.511200Z",
     "shell.execute_reply.started": "2024-12-11T20:11:14.400348Z"
    },
    "trusted": true
   },
   "outputs": [
    {
     "data": {
      "text/html": [
       "<iframe\n",
       "    scrolling=\"no\"\n",
       "    width=\"100%\"\n",
       "    height=\"545px\"\n",
       "    src=\"iframe_figures/figure_198.html\"\n",
       "    frameborder=\"0\"\n",
       "    allowfullscreen\n",
       "></iframe>\n"
      ]
     },
     "metadata": {},
     "output_type": "display_data"
    }
   ],
   "source": [
    "fig = px.histogram(df, x='Work Pressure', color='Depression', barmode='group', title='Распределение риска депрессии по рабочей загруженности')\n",
    "fig.show(renderer='iframe')"
   ]
  },
  {
   "cell_type": "code",
   "execution_count": 199,
   "metadata": {
    "execution": {
     "iopub.execute_input": "2024-12-11T20:11:14.516865Z",
     "iopub.status.busy": "2024-12-11T20:11:14.516496Z",
     "iopub.status.idle": "2024-12-11T20:11:14.617017Z",
     "shell.execute_reply": "2024-12-11T20:11:14.615812Z",
     "shell.execute_reply.started": "2024-12-11T20:11:14.516834Z"
    },
    "trusted": true
   },
   "outputs": [
    {
     "data": {
      "text/html": [
       "<iframe\n",
       "    scrolling=\"no\"\n",
       "    width=\"100%\"\n",
       "    height=\"545px\"\n",
       "    src=\"iframe_figures/figure_199.html\"\n",
       "    frameborder=\"0\"\n",
       "    allowfullscreen\n",
       "></iframe>\n"
      ]
     },
     "metadata": {},
     "output_type": "display_data"
    }
   ],
   "source": [
    "fig = px.histogram(df, x='CGPA', color='Depression', barmode='group', title='Распределение риска депрессии по оценкам')\n",
    "fig.show(renderer='iframe')"
   ]
  },
  {
   "cell_type": "code",
   "execution_count": 200,
   "metadata": {
    "execution": {
     "iopub.execute_input": "2024-12-11T20:11:14.618653Z",
     "iopub.status.busy": "2024-12-11T20:11:14.618337Z",
     "iopub.status.idle": "2024-12-11T20:11:14.721731Z",
     "shell.execute_reply": "2024-12-11T20:11:14.720326Z",
     "shell.execute_reply.started": "2024-12-11T20:11:14.618623Z"
    },
    "trusted": true
   },
   "outputs": [
    {
     "data": {
      "text/html": [
       "<iframe\n",
       "    scrolling=\"no\"\n",
       "    width=\"100%\"\n",
       "    height=\"545px\"\n",
       "    src=\"iframe_figures/figure_200.html\"\n",
       "    frameborder=\"0\"\n",
       "    allowfullscreen\n",
       "></iframe>\n"
      ]
     },
     "metadata": {},
     "output_type": "display_data"
    }
   ],
   "source": [
    "fig = px.histogram(df, x='Study Satisfaction', color='Depression', barmode='group', title='Распределение риска депрессии по удовлетворенности в учебе')\n",
    "fig.show(renderer='iframe')"
   ]
  },
  {
   "cell_type": "code",
   "execution_count": 201,
   "metadata": {
    "execution": {
     "iopub.execute_input": "2024-12-11T20:11:14.723392Z",
     "iopub.status.busy": "2024-12-11T20:11:14.722989Z",
     "iopub.status.idle": "2024-12-11T20:11:14.823829Z",
     "shell.execute_reply": "2024-12-11T20:11:14.822713Z",
     "shell.execute_reply.started": "2024-12-11T20:11:14.723349Z"
    },
    "trusted": true
   },
   "outputs": [
    {
     "data": {
      "text/html": [
       "<iframe\n",
       "    scrolling=\"no\"\n",
       "    width=\"100%\"\n",
       "    height=\"545px\"\n",
       "    src=\"iframe_figures/figure_201.html\"\n",
       "    frameborder=\"0\"\n",
       "    allowfullscreen\n",
       "></iframe>\n"
      ]
     },
     "metadata": {},
     "output_type": "display_data"
    }
   ],
   "source": [
    "fig = px.histogram(df, x='Job Satisfaction', color='Depression', barmode='group', title='Распределение риска депрессии по удовлетворенности в работе')\n",
    "fig.show(renderer='iframe')"
   ]
  },
  {
   "cell_type": "code",
   "execution_count": 202,
   "metadata": {
    "execution": {
     "iopub.execute_input": "2024-12-11T20:11:14.825857Z",
     "iopub.status.busy": "2024-12-11T20:11:14.825423Z",
     "iopub.status.idle": "2024-12-11T20:11:14.932266Z",
     "shell.execute_reply": "2024-12-11T20:11:14.930870Z",
     "shell.execute_reply.started": "2024-12-11T20:11:14.825822Z"
    },
    "trusted": true
   },
   "outputs": [
    {
     "data": {
      "text/html": [
       "<iframe\n",
       "    scrolling=\"no\"\n",
       "    width=\"100%\"\n",
       "    height=\"545px\"\n",
       "    src=\"iframe_figures/figure_202.html\"\n",
       "    frameborder=\"0\"\n",
       "    allowfullscreen\n",
       "></iframe>\n"
      ]
     },
     "metadata": {},
     "output_type": "display_data"
    }
   ],
   "source": [
    "fig = px.histogram(df, x='Sleep Duration', color='Depression', barmode='group', title='Распределение риска депрессии по часам сна')\n",
    "fig.show(renderer='iframe')"
   ]
  },
  {
   "cell_type": "code",
   "execution_count": 203,
   "metadata": {
    "execution": {
     "iopub.execute_input": "2024-12-11T20:11:14.934135Z",
     "iopub.status.busy": "2024-12-11T20:11:14.933771Z",
     "iopub.status.idle": "2024-12-11T20:11:15.045069Z",
     "shell.execute_reply": "2024-12-11T20:11:15.043797Z",
     "shell.execute_reply.started": "2024-12-11T20:11:14.934101Z"
    },
    "trusted": true
   },
   "outputs": [
    {
     "data": {
      "text/html": [
       "<iframe\n",
       "    scrolling=\"no\"\n",
       "    width=\"100%\"\n",
       "    height=\"545px\"\n",
       "    src=\"iframe_figures/figure_203.html\"\n",
       "    frameborder=\"0\"\n",
       "    allowfullscreen\n",
       "></iframe>\n"
      ]
     },
     "metadata": {},
     "output_type": "display_data"
    }
   ],
   "source": [
    "fig = px.histogram(df, x='Dietary Habits', color='Depression', barmode='group', title='Распределение риска депрессии по диете')\n",
    "fig.show(renderer='iframe')"
   ]
  },
  {
   "cell_type": "code",
   "execution_count": 204,
   "metadata": {
    "execution": {
     "iopub.execute_input": "2024-12-11T20:11:15.046938Z",
     "iopub.status.busy": "2024-12-11T20:11:15.046547Z",
     "iopub.status.idle": "2024-12-11T20:11:15.160192Z",
     "shell.execute_reply": "2024-12-11T20:11:15.158998Z",
     "shell.execute_reply.started": "2024-12-11T20:11:15.046900Z"
    },
    "trusted": true
   },
   "outputs": [
    {
     "data": {
      "text/html": [
       "<iframe\n",
       "    scrolling=\"no\"\n",
       "    width=\"100%\"\n",
       "    height=\"545px\"\n",
       "    src=\"iframe_figures/figure_204.html\"\n",
       "    frameborder=\"0\"\n",
       "    allowfullscreen\n",
       "></iframe>\n"
      ]
     },
     "metadata": {},
     "output_type": "display_data"
    }
   ],
   "source": [
    "fig = px.histogram(df, x='Degree', color='Depression', barmode='group', title='Распределение риска депрессии по уровню образования')\n",
    "fig.show(renderer='iframe')"
   ]
  },
  {
   "cell_type": "code",
   "execution_count": 205,
   "metadata": {
    "execution": {
     "iopub.execute_input": "2024-12-11T20:11:15.162446Z",
     "iopub.status.busy": "2024-12-11T20:11:15.161937Z",
     "iopub.status.idle": "2024-12-11T20:11:15.308624Z",
     "shell.execute_reply": "2024-12-11T20:11:15.306316Z",
     "shell.execute_reply.started": "2024-12-11T20:11:15.162394Z"
    },
    "trusted": true
   },
   "outputs": [
    {
     "data": {
      "text/html": [
       "<iframe\n",
       "    scrolling=\"no\"\n",
       "    width=\"100%\"\n",
       "    height=\"545px\"\n",
       "    src=\"iframe_figures/figure_205.html\"\n",
       "    frameborder=\"0\"\n",
       "    allowfullscreen\n",
       "></iframe>\n"
      ]
     },
     "metadata": {},
     "output_type": "display_data"
    }
   ],
   "source": [
    "fig = px.histogram(df, x='Have you ever had suicidal thoughts ?', color='Depression', barmode='group', title='Распределение риска депрессии по суицидальным мыслям')\n",
    "fig.show(renderer='iframe')"
   ]
  },
  {
   "cell_type": "code",
   "execution_count": 206,
   "metadata": {
    "execution": {
     "iopub.execute_input": "2024-12-11T20:11:15.312153Z",
     "iopub.status.busy": "2024-12-11T20:11:15.311605Z",
     "iopub.status.idle": "2024-12-11T20:11:15.431950Z",
     "shell.execute_reply": "2024-12-11T20:11:15.430556Z",
     "shell.execute_reply.started": "2024-12-11T20:11:15.312098Z"
    },
    "trusted": true
   },
   "outputs": [
    {
     "data": {
      "text/html": [
       "<iframe\n",
       "    scrolling=\"no\"\n",
       "    width=\"100%\"\n",
       "    height=\"545px\"\n",
       "    src=\"iframe_figures/figure_206.html\"\n",
       "    frameborder=\"0\"\n",
       "    allowfullscreen\n",
       "></iframe>\n"
      ]
     },
     "metadata": {},
     "output_type": "display_data"
    }
   ],
   "source": [
    "fig = px.histogram(df, x='Family History of Mental Illness', color='Depression', barmode='group', title='Распределение риска депрессии по наследственным заболеваниям')\n",
    "fig.show(renderer='iframe')"
   ]
  },
  {
   "cell_type": "code",
   "execution_count": 207,
   "metadata": {
    "execution": {
     "iopub.execute_input": "2024-12-11T20:11:15.433914Z",
     "iopub.status.busy": "2024-12-11T20:11:15.433516Z",
     "iopub.status.idle": "2024-12-11T20:11:15.523086Z",
     "shell.execute_reply": "2024-12-11T20:11:15.521800Z",
     "shell.execute_reply.started": "2024-12-11T20:11:15.433881Z"
    },
    "trusted": true
   },
   "outputs": [
    {
     "data": {
      "text/html": [
       "<iframe\n",
       "    scrolling=\"no\"\n",
       "    width=\"100%\"\n",
       "    height=\"545px\"\n",
       "    src=\"iframe_figures/figure_207.html\"\n",
       "    frameborder=\"0\"\n",
       "    allowfullscreen\n",
       "></iframe>\n"
      ]
     },
     "metadata": {},
     "output_type": "display_data"
    }
   ],
   "source": [
    "correlation_matrix = df.corr(numeric_only=True)\n",
    "fig = px.imshow(correlation_matrix, \n",
    "                text_auto=True,\n",
    "                color_continuous_scale='RdYlBu',\n",
    "                title='Тепловая карта',\n",
    "                aspect='auto')\n",
    "fig.show(renderer='iframe')"
   ]
  },
  {
   "cell_type": "markdown",
   "metadata": {},
   "source": [
    "Много низкокореллированных признаков. Пока сложно понять, хорошо это или плохо."
   ]
  },
  {
   "cell_type": "markdown",
   "metadata": {},
   "source": [
    "# 3. Построить и оценить качество бейзлайна"
   ]
  },
  {
   "cell_type": "markdown",
   "metadata": {},
   "source": [
    "## Предобработка данных"
   ]
  },
  {
   "cell_type": "markdown",
   "metadata": {},
   "source": [
    "Переименовываем столбцы и избавляемся от пробелов для простоты работы."
   ]
  },
  {
   "cell_type": "code",
   "execution_count": 208,
   "metadata": {
    "execution": {
     "iopub.execute_input": "2024-12-11T20:11:15.525413Z",
     "iopub.status.busy": "2024-12-11T20:11:15.524907Z",
     "iopub.status.idle": "2024-12-11T20:11:15.534031Z",
     "shell.execute_reply": "2024-12-11T20:11:15.532667Z",
     "shell.execute_reply.started": "2024-12-11T20:11:15.525362Z"
    },
    "trusted": true
   },
   "outputs": [
    {
     "data": {
      "text/plain": [
       "Index(['Name', 'Gender', 'Age', 'City', 'Working_Professional_or_Student',\n",
       "       'Profession', 'Academic_Pressure', 'Work_Pressure', 'CGPA',\n",
       "       'Study_Satisfaction', 'Job_Satisfaction', 'Sleep_Duration',\n",
       "       'Dietary_Habits', 'Degree', 'Have_you_ever_had_suicidal_thoughts_?',\n",
       "       'Work/Study_Hours', 'Financial_Stress',\n",
       "       'Family_History_of_Mental_Illness', 'Depression'],\n",
       "      dtype='object')"
      ]
     },
     "execution_count": 208,
     "metadata": {},
     "output_type": "execute_result"
    }
   ],
   "source": [
    "df.columns = [col.replace(' ', '_') for col in df.columns]\n",
    "df.columns"
   ]
  },
  {
   "cell_type": "markdown",
   "metadata": {},
   "source": [
    "Удаляем признак имени т.к. предполагаем, что риск депрессии не зависит от имени."
   ]
  },
  {
   "cell_type": "code",
   "execution_count": 209,
   "metadata": {
    "execution": {
     "iopub.execute_input": "2024-12-11T20:11:15.536499Z",
     "iopub.status.busy": "2024-12-11T20:11:15.535882Z",
     "iopub.status.idle": "2024-12-11T20:11:15.556217Z",
     "shell.execute_reply": "2024-12-11T20:11:15.554909Z",
     "shell.execute_reply.started": "2024-12-11T20:11:15.536459Z"
    },
    "trusted": true
   },
   "outputs": [],
   "source": [
    "df.drop('Name', axis=1, inplace=True)"
   ]
  },
  {
   "cell_type": "code",
   "execution_count": 210,
   "metadata": {
    "execution": {
     "iopub.execute_input": "2024-12-11T20:11:15.557985Z",
     "iopub.status.busy": "2024-12-11T20:11:15.557503Z",
     "iopub.status.idle": "2024-12-11T20:11:15.577750Z",
     "shell.execute_reply": "2024-12-11T20:11:15.576145Z",
     "shell.execute_reply.started": "2024-12-11T20:11:15.557949Z"
    },
    "trusted": true
   },
   "outputs": [],
   "source": [
    "X = df.drop(\"Depression\", axis=1)\n",
    "y = df[\"Depression\"]\n",
    "X_train, X_test, y_train, y_test = train_test_split(\n",
    "    X, y, test_size=0.2, random_state=2024\n",
    ")"
   ]
  },
  {
   "cell_type": "markdown",
   "metadata": {},
   "source": [
    "Заполняем пропуски в полезных признаков нулями."
   ]
  },
  {
   "cell_type": "code",
   "execution_count": 211,
   "metadata": {
    "execution": {
     "iopub.execute_input": "2024-12-11T20:11:15.579811Z",
     "iopub.status.busy": "2024-12-11T20:11:15.579212Z",
     "iopub.status.idle": "2024-12-11T20:11:15.599606Z",
     "shell.execute_reply": "2024-12-11T20:11:15.597376Z",
     "shell.execute_reply.started": "2024-12-11T20:11:15.579749Z"
    },
    "trusted": true
   },
   "outputs": [
    {
     "data": {
      "text/plain": [
       "Gender                                      0\n",
       "Age                                         0\n",
       "City                                        0\n",
       "Working_Professional_or_Student             0\n",
       "Profession                                553\n",
       "Academic_Pressure                        1624\n",
       "Work_Pressure                             420\n",
       "CGPA                                     1624\n",
       "Study_Satisfaction                       1624\n",
       "Job_Satisfaction                          420\n",
       "Sleep_Duration                              0\n",
       "Dietary_Habits                              0\n",
       "Degree                                      0\n",
       "Have_you_ever_had_suicidal_thoughts_?       0\n",
       "Work/Study_Hours                            0\n",
       "Financial_Stress                            0\n",
       "Family_History_of_Mental_Illness            0\n",
       "dtype: int64"
      ]
     },
     "execution_count": 211,
     "metadata": {},
     "output_type": "execute_result"
    }
   ],
   "source": [
    "X_train.isna().sum()"
   ]
  },
  {
   "cell_type": "code",
   "execution_count": 212,
   "metadata": {
    "execution": {
     "iopub.execute_input": "2024-12-11T20:11:15.601815Z",
     "iopub.status.busy": "2024-12-11T20:11:15.601412Z",
     "iopub.status.idle": "2024-12-11T20:11:15.620303Z",
     "shell.execute_reply": "2024-12-11T20:11:15.619085Z",
     "shell.execute_reply.started": "2024-12-11T20:11:15.601770Z"
    },
    "trusted": true
   },
   "outputs": [],
   "source": [
    "X_train.fillna({'Profession': 'Unknown'}, inplace=True)\n",
    "X_test.fillna({'Profession': 'Unknown'}, inplace=True)"
   ]
  },
  {
   "cell_type": "code",
   "execution_count": 213,
   "metadata": {
    "execution": {
     "iopub.execute_input": "2024-12-11T20:11:15.622136Z",
     "iopub.status.busy": "2024-12-11T20:11:15.621776Z",
     "iopub.status.idle": "2024-12-11T20:11:15.644443Z",
     "shell.execute_reply": "2024-12-11T20:11:15.643139Z",
     "shell.execute_reply.started": "2024-12-11T20:11:15.622104Z"
    },
    "trusted": true
   },
   "outputs": [],
   "source": [
    "X_train.fillna({'Academic_Pressure': 0, 'Work_Pressure': 0, 'CGPA': 0, 'Study_Satisfaction': 0, 'Job_Satisfaction': 0}, inplace=True)\n",
    "X_test.fillna({'Academic_Pressure': 0, 'Work_Pressure': 0, 'CGPA': 0, 'Study_Satisfaction': 0, 'Job_Satisfaction': 0}, inplace=True)"
   ]
  },
  {
   "cell_type": "code",
   "execution_count": 214,
   "metadata": {
    "execution": {
     "iopub.execute_input": "2024-12-11T20:11:15.646309Z",
     "iopub.status.busy": "2024-12-11T20:11:15.645860Z",
     "iopub.status.idle": "2024-12-11T20:11:15.661147Z",
     "shell.execute_reply": "2024-12-11T20:11:15.659916Z",
     "shell.execute_reply.started": "2024-12-11T20:11:15.646261Z"
    },
    "trusted": true
   },
   "outputs": [
    {
     "data": {
      "text/plain": [
       "Gender                                   0\n",
       "Age                                      0\n",
       "City                                     0\n",
       "Working_Professional_or_Student          0\n",
       "Profession                               0\n",
       "Academic_Pressure                        0\n",
       "Work_Pressure                            0\n",
       "CGPA                                     0\n",
       "Study_Satisfaction                       0\n",
       "Job_Satisfaction                         0\n",
       "Sleep_Duration                           0\n",
       "Dietary_Habits                           0\n",
       "Degree                                   0\n",
       "Have_you_ever_had_suicidal_thoughts_?    0\n",
       "Work/Study_Hours                         0\n",
       "Financial_Stress                         0\n",
       "Family_History_of_Mental_Illness         0\n",
       "dtype: int64"
      ]
     },
     "execution_count": 214,
     "metadata": {},
     "output_type": "execute_result"
    }
   ],
   "source": [
    "X_train.isna().sum()"
   ]
  },
  {
   "cell_type": "markdown",
   "metadata": {},
   "source": [
    "Переводим категориальные признаки в порядковые и бинарные."
   ]
  },
  {
   "cell_type": "code",
   "execution_count": 215,
   "metadata": {
    "execution": {
     "iopub.execute_input": "2024-12-11T20:11:15.662766Z",
     "iopub.status.busy": "2024-12-11T20:11:15.662408Z",
     "iopub.status.idle": "2024-12-11T20:11:15.681334Z",
     "shell.execute_reply": "2024-12-11T20:11:15.679810Z",
     "shell.execute_reply.started": "2024-12-11T20:11:15.662728Z"
    },
    "trusted": true
   },
   "outputs": [],
   "source": [
    "ord_enc = OrdinalEncoder()\n",
    "\n",
    "X_train[\"Sleep_Duration\"] = ord_enc.fit_transform(\n",
    "    X_train[\"Sleep_Duration\"].values.reshape(-1, 1)\n",
    ")\n",
    "X_test[\"Sleep_Duration\"] = ord_enc.transform(\n",
    "    X_test[\"Sleep_Duration\"].values.reshape(-1, 1)\n",
    ")\n",
    "\n",
    "X_train[\"Dietary_Habits\"] = ord_enc.fit_transform(\n",
    "    X_train[\"Dietary_Habits\"].values.reshape(-1, 1)\n",
    ")\n",
    "X_test[\"Dietary_Habits\"] = ord_enc.transform(\n",
    "    X_test[\"Dietary_Habits\"].values.reshape(-1, 1)\n",
    ")"
   ]
  },
  {
   "cell_type": "code",
   "execution_count": 216,
   "metadata": {
    "execution": {
     "iopub.execute_input": "2024-12-11T20:11:15.683828Z",
     "iopub.status.busy": "2024-12-11T20:11:15.682975Z",
     "iopub.status.idle": "2024-12-11T20:11:15.766920Z",
     "shell.execute_reply": "2024-12-11T20:11:15.765789Z",
     "shell.execute_reply.started": "2024-12-11T20:11:15.683789Z"
    },
    "trusted": true
   },
   "outputs": [],
   "source": [
    "binary_columns = [\"Gender\",\"Working_Professional_or_Student\", \"Have_you_ever_had_suicidal_thoughts_?\", \"Family_History_of_Mental_Illness\"]\n",
    "\n",
    "bin_enc = BinaryEncoder(cols=binary_columns)\n",
    "\n",
    "X_train = bin_enc.fit_transform(X_train)\n",
    "X_test = bin_enc.transform(X_test)"
   ]
  },
  {
   "cell_type": "markdown",
   "metadata": {},
   "source": [
    "Кодируем целевую переменную при помощи LabelEncoder."
   ]
  },
  {
   "cell_type": "code",
   "execution_count": 217,
   "metadata": {
    "execution": {
     "iopub.execute_input": "2024-12-11T20:11:15.774091Z",
     "iopub.status.busy": "2024-12-11T20:11:15.773692Z",
     "iopub.status.idle": "2024-12-11T20:11:15.781464Z",
     "shell.execute_reply": "2024-12-11T20:11:15.780198Z",
     "shell.execute_reply.started": "2024-12-11T20:11:15.774056Z"
    },
    "trusted": true
   },
   "outputs": [],
   "source": [
    "label_enc = LabelEncoder()\n",
    "\n",
    "y_train = pd.Series(label_enc.fit_transform(y_train))\n",
    "y_test = pd.Series(label_enc.transform(y_test))"
   ]
  },
  {
   "cell_type": "markdown",
   "metadata": {},
   "source": [
    "Выполняем кодирование категориальных признаков с привязкой целевой переменной т.к. предполагаем, что они влияют на уровень депрессии."
   ]
  },
  {
   "cell_type": "code",
   "execution_count": 218,
   "metadata": {
    "execution": {
     "iopub.execute_input": "2024-12-11T20:11:15.783586Z",
     "iopub.status.busy": "2024-12-11T20:11:15.783149Z",
     "iopub.status.idle": "2024-12-11T20:11:15.854695Z",
     "shell.execute_reply": "2024-12-11T20:11:15.852917Z",
     "shell.execute_reply.started": "2024-12-11T20:11:15.783530Z"
    },
    "trusted": true
   },
   "outputs": [],
   "source": [
    "target_encode_columns = ['Profession', 'Degree', 'City']\n",
    "\n",
    "target_encoder = TargetEncoder(cols=target_encode_columns)\n",
    "\n",
    "X_train[target_encode_columns] = target_encoder.fit_transform(X_train[target_encode_columns], y_train.values)\n",
    "X_test[target_encode_columns] = target_encoder.transform(X_test[target_encode_columns])"
   ]
  },
  {
   "cell_type": "markdown",
   "metadata": {},
   "source": [
    "Смотрим на полученные результаты предобработки данных."
   ]
  },
  {
   "cell_type": "code",
   "execution_count": 219,
   "metadata": {
    "execution": {
     "iopub.execute_input": "2024-12-11T20:11:15.856523Z",
     "iopub.status.busy": "2024-12-11T20:11:15.856146Z",
     "iopub.status.idle": "2024-12-11T20:11:15.866215Z",
     "shell.execute_reply": "2024-12-11T20:11:15.864700Z",
     "shell.execute_reply.started": "2024-12-11T20:11:15.856489Z"
    },
    "trusted": true
   },
   "outputs": [
    {
     "name": "stdout",
     "output_type": "stream",
     "text": [
      "Gender_0                                     int64\n",
      "Gender_1                                     int64\n",
      "Age                                          int64\n",
      "City                                       float64\n",
      "Working_Professional_or_Student_0            int64\n",
      "Working_Professional_or_Student_1            int64\n",
      "Profession                                 float64\n",
      "Academic_Pressure                          float64\n",
      "Work_Pressure                              float64\n",
      "CGPA                                       float64\n",
      "Study_Satisfaction                         float64\n",
      "Job_Satisfaction                           float64\n",
      "Sleep_Duration                             float64\n",
      "Dietary_Habits                             float64\n",
      "Degree                                     float64\n",
      "Have_you_ever_had_suicidal_thoughts_?_0      int64\n",
      "Have_you_ever_had_suicidal_thoughts_?_1      int64\n",
      "Work/Study_Hours                             int64\n",
      "Financial_Stress                             int64\n",
      "Family_History_of_Mental_Illness_0           int64\n",
      "Family_History_of_Mental_Illness_1           int64\n",
      "dtype: object \n",
      "\n",
      " Gender_0                                     int64\n",
      "Gender_1                                     int64\n",
      "Age                                          int64\n",
      "City                                       float64\n",
      "Working_Professional_or_Student_0            int64\n",
      "Working_Professional_or_Student_1            int64\n",
      "Profession                                 float64\n",
      "Academic_Pressure                          float64\n",
      "Work_Pressure                              float64\n",
      "CGPA                                       float64\n",
      "Study_Satisfaction                         float64\n",
      "Job_Satisfaction                           float64\n",
      "Sleep_Duration                             float64\n",
      "Dietary_Habits                             float64\n",
      "Degree                                     float64\n",
      "Have_you_ever_had_suicidal_thoughts_?_0      int64\n",
      "Have_you_ever_had_suicidal_thoughts_?_1      int64\n",
      "Work/Study_Hours                             int64\n",
      "Financial_Stress                             int64\n",
      "Family_History_of_Mental_Illness_0           int64\n",
      "Family_History_of_Mental_Illness_1           int64\n",
      "dtype: object\n"
     ]
    }
   ],
   "source": [
    "print(X_train.dtypes, \"\\n\\n\", X_test.dtypes)"
   ]
  },
  {
   "cell_type": "code",
   "execution_count": 220,
   "metadata": {
    "execution": {
     "iopub.execute_input": "2024-12-11T20:11:15.868045Z",
     "iopub.status.busy": "2024-12-11T20:11:15.867450Z",
     "iopub.status.idle": "2024-12-11T20:11:15.891712Z",
     "shell.execute_reply": "2024-12-11T20:11:15.890285Z",
     "shell.execute_reply.started": "2024-12-11T20:11:15.867992Z"
    },
    "trusted": true
   },
   "outputs": [
    {
     "name": "stdout",
     "output_type": "stream",
     "text": [
      "Gender_0                                   0\n",
      "Gender_1                                   0\n",
      "Age                                        0\n",
      "City                                       0\n",
      "Working_Professional_or_Student_0          0\n",
      "Working_Professional_or_Student_1          0\n",
      "Profession                                 0\n",
      "Academic_Pressure                          0\n",
      "Work_Pressure                              0\n",
      "CGPA                                       0\n",
      "Study_Satisfaction                         0\n",
      "Job_Satisfaction                           0\n",
      "Sleep_Duration                             0\n",
      "Dietary_Habits                             0\n",
      "Degree                                     0\n",
      "Have_you_ever_had_suicidal_thoughts_?_0    0\n",
      "Have_you_ever_had_suicidal_thoughts_?_1    0\n",
      "Work/Study_Hours                           0\n",
      "Financial_Stress                           0\n",
      "Family_History_of_Mental_Illness_0         0\n",
      "Family_History_of_Mental_Illness_1         0\n",
      "dtype: int64 \n",
      "\n",
      " Gender_0                                   0\n",
      "Gender_1                                   0\n",
      "Age                                        0\n",
      "City                                       0\n",
      "Working_Professional_or_Student_0          0\n",
      "Working_Professional_or_Student_1          0\n",
      "Profession                                 0\n",
      "Academic_Pressure                          0\n",
      "Work_Pressure                              0\n",
      "CGPA                                       0\n",
      "Study_Satisfaction                         0\n",
      "Job_Satisfaction                           0\n",
      "Sleep_Duration                             0\n",
      "Dietary_Habits                             0\n",
      "Degree                                     0\n",
      "Have_you_ever_had_suicidal_thoughts_?_0    0\n",
      "Have_you_ever_had_suicidal_thoughts_?_1    0\n",
      "Work/Study_Hours                           0\n",
      "Financial_Stress                           0\n",
      "Family_History_of_Mental_Illness_0         0\n",
      "Family_History_of_Mental_Illness_1         0\n",
      "dtype: int64\n"
     ]
    }
   ],
   "source": [
    "print(X_train.isnull().sum(), \"\\n\\n\", X_test.isnull().sum())"
   ]
  },
  {
   "cell_type": "code",
   "execution_count": 221,
   "metadata": {
    "execution": {
     "iopub.execute_input": "2024-12-11T20:11:15.894098Z",
     "iopub.status.busy": "2024-12-11T20:11:15.893461Z",
     "iopub.status.idle": "2024-12-11T20:11:15.909554Z",
     "shell.execute_reply": "2024-12-11T20:11:15.906904Z",
     "shell.execute_reply.started": "2024-12-11T20:11:15.894050Z"
    },
    "trusted": true
   },
   "outputs": [],
   "source": [
    "feature_labels=X_train.columns"
   ]
  },
  {
   "cell_type": "markdown",
   "metadata": {},
   "source": [
    "## Константный предиктор"
   ]
  },
  {
   "cell_type": "markdown",
   "metadata": {},
   "source": [
    "Составим константный предиктор по самому частому классу."
   ]
  },
  {
   "cell_type": "code",
   "execution_count": 222,
   "metadata": {
    "execution": {
     "iopub.execute_input": "2024-12-11T20:11:15.912119Z",
     "iopub.status.busy": "2024-12-11T20:11:15.911774Z",
     "iopub.status.idle": "2024-12-11T20:11:15.927891Z",
     "shell.execute_reply": "2024-12-11T20:11:15.926368Z",
     "shell.execute_reply.started": "2024-12-11T20:11:15.912088Z"
    },
    "trusted": true
   },
   "outputs": [],
   "source": [
    "most_frequent_class = y_train.mode()[0]"
   ]
  },
  {
   "cell_type": "code",
   "execution_count": 223,
   "metadata": {
    "execution": {
     "iopub.execute_input": "2024-12-11T20:11:15.930111Z",
     "iopub.status.busy": "2024-12-11T20:11:15.929730Z",
     "iopub.status.idle": "2024-12-11T20:11:15.945269Z",
     "shell.execute_reply": "2024-12-11T20:11:15.943838Z",
     "shell.execute_reply.started": "2024-12-11T20:11:15.930076Z"
    },
    "trusted": true
   },
   "outputs": [],
   "source": [
    "y_pred_constant = np.full_like(y_test, fill_value=most_frequent_class)"
   ]
  },
  {
   "cell_type": "code",
   "execution_count": 224,
   "metadata": {
    "execution": {
     "iopub.execute_input": "2024-12-11T20:11:15.947037Z",
     "iopub.status.busy": "2024-12-11T20:11:15.946671Z",
     "iopub.status.idle": "2024-12-11T20:11:15.971027Z",
     "shell.execute_reply": "2024-12-11T20:11:15.969634Z",
     "shell.execute_reply.started": "2024-12-11T20:11:15.947002Z"
    },
    "trusted": true
   },
   "outputs": [
    {
     "data": {
      "text/plain": [
       "0.0"
      ]
     },
     "execution_count": 224,
     "metadata": {},
     "output_type": "execute_result"
    }
   ],
   "source": [
    "f1_score(y_test, y_pred_constant)"
   ]
  },
  {
   "cell_type": "markdown",
   "metadata": {},
   "source": [
    "Учитывая дисбаланс в наборе данных, постоянный предиктор предсказывает класс большинства \"No\" для всех случаев, что приводит к F1-Score, равному 0, для класса \"Yes\"."
   ]
  },
  {
   "cell_type": "markdown",
   "metadata": {},
   "source": [
    "## Базовая модель"
   ]
  },
  {
   "cell_type": "markdown",
   "metadata": {},
   "source": [
    "В качестве базовой модели построим логистическую регрессию.  \n",
    "Для линейной модели необходимо произвести нормализацию данных."
   ]
  },
  {
   "cell_type": "code",
   "execution_count": 225,
   "metadata": {
    "execution": {
     "iopub.execute_input": "2024-12-11T20:11:15.973200Z",
     "iopub.status.busy": "2024-12-11T20:11:15.972710Z",
     "iopub.status.idle": "2024-12-11T20:11:15.996768Z",
     "shell.execute_reply": "2024-12-11T20:11:15.994820Z",
     "shell.execute_reply.started": "2024-12-11T20:11:15.973149Z"
    },
    "trusted": true
   },
   "outputs": [],
   "source": [
    "scaler = StandardScaler()\n",
    "\n",
    "X_train = scaler.fit_transform(X_train)\n",
    "X_test = scaler.transform(X_test)"
   ]
  },
  {
   "cell_type": "markdown",
   "metadata": {},
   "source": [
    "В логистическую регрессию установим параметр class_weight в 'balanced' для правильной работы с несбалансированными классами."
   ]
  },
  {
   "cell_type": "code",
   "execution_count": 226,
   "metadata": {
    "execution": {
     "iopub.execute_input": "2024-12-11T20:11:15.998722Z",
     "iopub.status.busy": "2024-12-11T20:11:15.998258Z",
     "iopub.status.idle": "2024-12-11T20:11:16.044505Z",
     "shell.execute_reply": "2024-12-11T20:11:16.042519Z",
     "shell.execute_reply.started": "2024-12-11T20:11:15.998685Z"
    },
    "trusted": true
   },
   "outputs": [
    {
     "data": {
      "text/html": [
       "<style>#sk-container-id-6 {color: black;background-color: white;}#sk-container-id-6 pre{padding: 0;}#sk-container-id-6 div.sk-toggleable {background-color: white;}#sk-container-id-6 label.sk-toggleable__label {cursor: pointer;display: block;width: 100%;margin-bottom: 0;padding: 0.3em;box-sizing: border-box;text-align: center;}#sk-container-id-6 label.sk-toggleable__label-arrow:before {content: \"▸\";float: left;margin-right: 0.25em;color: #696969;}#sk-container-id-6 label.sk-toggleable__label-arrow:hover:before {color: black;}#sk-container-id-6 div.sk-estimator:hover label.sk-toggleable__label-arrow:before {color: black;}#sk-container-id-6 div.sk-toggleable__content {max-height: 0;max-width: 0;overflow: hidden;text-align: left;background-color: #f0f8ff;}#sk-container-id-6 div.sk-toggleable__content pre {margin: 0.2em;color: black;border-radius: 0.25em;background-color: #f0f8ff;}#sk-container-id-6 input.sk-toggleable__control:checked~div.sk-toggleable__content {max-height: 200px;max-width: 100%;overflow: auto;}#sk-container-id-6 input.sk-toggleable__control:checked~label.sk-toggleable__label-arrow:before {content: \"▾\";}#sk-container-id-6 div.sk-estimator input.sk-toggleable__control:checked~label.sk-toggleable__label {background-color: #d4ebff;}#sk-container-id-6 div.sk-label input.sk-toggleable__control:checked~label.sk-toggleable__label {background-color: #d4ebff;}#sk-container-id-6 input.sk-hidden--visually {border: 0;clip: rect(1px 1px 1px 1px);clip: rect(1px, 1px, 1px, 1px);height: 1px;margin: -1px;overflow: hidden;padding: 0;position: absolute;width: 1px;}#sk-container-id-6 div.sk-estimator {font-family: monospace;background-color: #f0f8ff;border: 1px dotted black;border-radius: 0.25em;box-sizing: border-box;margin-bottom: 0.5em;}#sk-container-id-6 div.sk-estimator:hover {background-color: #d4ebff;}#sk-container-id-6 div.sk-parallel-item::after {content: \"\";width: 100%;border-bottom: 1px solid gray;flex-grow: 1;}#sk-container-id-6 div.sk-label:hover label.sk-toggleable__label {background-color: #d4ebff;}#sk-container-id-6 div.sk-serial::before {content: \"\";position: absolute;border-left: 1px solid gray;box-sizing: border-box;top: 0;bottom: 0;left: 50%;z-index: 0;}#sk-container-id-6 div.sk-serial {display: flex;flex-direction: column;align-items: center;background-color: white;padding-right: 0.2em;padding-left: 0.2em;position: relative;}#sk-container-id-6 div.sk-item {position: relative;z-index: 1;}#sk-container-id-6 div.sk-parallel {display: flex;align-items: stretch;justify-content: center;background-color: white;position: relative;}#sk-container-id-6 div.sk-item::before, #sk-container-id-6 div.sk-parallel-item::before {content: \"\";position: absolute;border-left: 1px solid gray;box-sizing: border-box;top: 0;bottom: 0;left: 50%;z-index: -1;}#sk-container-id-6 div.sk-parallel-item {display: flex;flex-direction: column;z-index: 1;position: relative;background-color: white;}#sk-container-id-6 div.sk-parallel-item:first-child::after {align-self: flex-end;width: 50%;}#sk-container-id-6 div.sk-parallel-item:last-child::after {align-self: flex-start;width: 50%;}#sk-container-id-6 div.sk-parallel-item:only-child::after {width: 0;}#sk-container-id-6 div.sk-dashed-wrapped {border: 1px dashed gray;margin: 0 0.4em 0.5em 0.4em;box-sizing: border-box;padding-bottom: 0.4em;background-color: white;}#sk-container-id-6 div.sk-label label {font-family: monospace;font-weight: bold;display: inline-block;line-height: 1.2em;}#sk-container-id-6 div.sk-label-container {text-align: center;}#sk-container-id-6 div.sk-container {/* jupyter's `normalize.less` sets `[hidden] { display: none; }` but bootstrap.min.css set `[hidden] { display: none !important; }` so we also need the `!important` here to be able to override the default hidden behavior on the sphinx rendered scikit-learn.org. See: https://github.com/scikit-learn/scikit-learn/issues/21755 */display: inline-block !important;position: relative;}#sk-container-id-6 div.sk-text-repr-fallback {display: none;}</style><div id=\"sk-container-id-6\" class=\"sk-top-container\"><div class=\"sk-text-repr-fallback\"><pre>LogisticRegression(class_weight=&#x27;balanced&#x27;, max_iter=1000, random_state=2024)</pre><b>In a Jupyter environment, please rerun this cell to show the HTML representation or trust the notebook. <br />On GitHub, the HTML representation is unable to render, please try loading this page with nbviewer.org.</b></div><div class=\"sk-container\" hidden><div class=\"sk-item\"><div class=\"sk-estimator sk-toggleable\"><input class=\"sk-toggleable__control sk-hidden--visually\" id=\"sk-estimator-id-6\" type=\"checkbox\" checked><label for=\"sk-estimator-id-6\" class=\"sk-toggleable__label sk-toggleable__label-arrow\">LogisticRegression</label><div class=\"sk-toggleable__content\"><pre>LogisticRegression(class_weight=&#x27;balanced&#x27;, max_iter=1000, random_state=2024)</pre></div></div></div></div></div>"
      ],
      "text/plain": [
       "LogisticRegression(class_weight='balanced', max_iter=1000, random_state=2024)"
      ]
     },
     "execution_count": 226,
     "metadata": {},
     "output_type": "execute_result"
    }
   ],
   "source": [
    "baseline_model = LogisticRegression(class_weight='balanced', max_iter=1000, random_state=2024)\n",
    "baseline_model.fit(X_train, y_train)"
   ]
  },
  {
   "cell_type": "code",
   "execution_count": 227,
   "metadata": {
    "execution": {
     "iopub.execute_input": "2024-12-11T20:11:16.050336Z",
     "iopub.status.busy": "2024-12-11T20:11:16.046345Z",
     "iopub.status.idle": "2024-12-11T20:11:16.065564Z",
     "shell.execute_reply": "2024-12-11T20:11:16.061842Z",
     "shell.execute_reply.started": "2024-12-11T20:11:16.050183Z"
    },
    "trusted": true
   },
   "outputs": [],
   "source": [
    "y_pred = baseline_model.predict(X_test)"
   ]
  },
  {
   "cell_type": "markdown",
   "metadata": {},
   "source": [
    "Произведем оценку качества получившийся модели с помощью f1 метрики."
   ]
  },
  {
   "cell_type": "code",
   "execution_count": 228,
   "metadata": {
    "execution": {
     "iopub.execute_input": "2024-12-11T20:11:16.071022Z",
     "iopub.status.busy": "2024-12-11T20:11:16.070033Z",
     "iopub.status.idle": "2024-12-11T20:11:16.101929Z",
     "shell.execute_reply": "2024-12-11T20:11:16.100519Z",
     "shell.execute_reply.started": "2024-12-11T20:11:16.070966Z"
    },
    "trusted": true
   },
   "outputs": [
    {
     "data": {
      "text/plain": [
       "0.8834355828220859"
      ]
     },
     "execution_count": 228,
     "metadata": {},
     "output_type": "execute_result"
    }
   ],
   "source": [
    "f1_score(y_test, y_pred)"
   ]
  },
  {
   "cell_type": "markdown",
   "metadata": {},
   "source": [
    "Для визуализации результата работы модели воспользуемся матрицой ошибок. "
   ]
  },
  {
   "cell_type": "code",
   "execution_count": 229,
   "metadata": {
    "execution": {
     "iopub.execute_input": "2024-12-11T20:11:16.110157Z",
     "iopub.status.busy": "2024-12-11T20:11:16.108082Z",
     "iopub.status.idle": "2024-12-11T20:11:16.213064Z",
     "shell.execute_reply": "2024-12-11T20:11:16.211961Z",
     "shell.execute_reply.started": "2024-12-11T20:11:16.110083Z"
    },
    "trusted": true
   },
   "outputs": [
    {
     "data": {
      "text/html": [
       "<iframe\n",
       "    scrolling=\"no\"\n",
       "    width=\"100%\"\n",
       "    height=\"545px\"\n",
       "    src=\"iframe_figures/figure_229.html\"\n",
       "    frameborder=\"0\"\n",
       "    allowfullscreen\n",
       "></iframe>\n"
      ]
     },
     "metadata": {},
     "output_type": "display_data"
    }
   ],
   "source": [
    "cm = confusion_matrix(y_test, y_pred)\n",
    "\n",
    "fig = ff.create_annotated_heatmap(\n",
    "    z=cm,\n",
    "    x=['Predicted No', 'Predicted Yes'],\n",
    "    y=['Actual No', 'Actual Yes'],\n",
    ")\n",
    "fig.update_layout(title='Матрица ошибок')\n",
    "fig.show(renderer='iframe')"
   ]
  },
  {
   "cell_type": "markdown",
   "metadata": {},
   "source": [
    "## Построить более сложную модель с подбором гиперпараметров"
   ]
  },
  {
   "cell_type": "code",
   "execution_count": 165,
   "metadata": {
    "execution": {
     "iopub.execute_input": "2024-12-11T20:01:43.233845Z",
     "iopub.status.busy": "2024-12-11T20:01:43.233498Z",
     "iopub.status.idle": "2024-12-11T20:01:43.239632Z",
     "shell.execute_reply": "2024-12-11T20:01:43.238266Z",
     "shell.execute_reply.started": "2024-12-11T20:01:43.233811Z"
    },
    "trusted": true
   },
   "outputs": [],
   "source": [
    "import optuna\n",
    "import xgboost as xgb\n",
    "import matplotlib.pyplot as plt\n",
    "\n",
    "from sklearn.model_selection import cross_val_score\n",
    "from sklearn.metrics import classification_report, roc_auc_score\n",
    "from sklearn.metrics import roc_auc_score"
   ]
  },
  {
   "cell_type": "code",
   "execution_count": 166,
   "metadata": {
    "execution": {
     "iopub.execute_input": "2024-12-11T20:01:43.241980Z",
     "iopub.status.busy": "2024-12-11T20:01:43.241523Z",
     "iopub.status.idle": "2024-12-11T20:01:43.260784Z",
     "shell.execute_reply": "2024-12-11T20:01:43.259511Z",
     "shell.execute_reply.started": "2024-12-11T20:01:43.241931Z"
    },
    "trusted": true
   },
   "outputs": [],
   "source": [
    "# Подбор гиперпараметров с использованием кросс-валидации \n",
    "\n",
    "def objective(trial):\n",
    "    param = {\n",
    "        'eval_metric': 'auc',\n",
    "        'max_depth': trial.suggest_int('max_depth', 2, 10),\n",
    "        'learning_rate': trial.suggest_float('learning_rate', 0.01, 0.1),\n",
    "        'n_estimators': trial.suggest_int('n_estimators', 400, 1000),\n",
    "        'subsample': trial.suggest_float('subsample', 0.5, 1.0),\n",
    "        'colsample_bytree': trial.suggest_float('colsample_bytree', 0, 1.0),\n",
    "        'reg_lambda': trial.suggest_float('reg_lambda', 0,4),\n",
    "        'reg_alpha': trial.suggest_float('reg_alpha', 0,4),\n",
    "        'gamma': trial.suggest_float('gamma', 0, 0.5),\n",
    "        'min_child_weight': trial.suggest_int('min_child_weight', 1, 10),\n",
    "        'random_state': 2024\n",
    "    }\n",
    "\n",
    "    model = xgb.XGBClassifier(**param)\n",
    "    scores = cross_val_score(model, X_train, y_train, cv=10, scoring='roc_auc')\n",
    "    return scores.mean()"
   ]
  },
  {
   "cell_type": "markdown",
   "metadata": {},
   "source": [
    "f1_score не поддерживается напрямую в качестве eval_metric в XGBoost. Метрика AUC была выбрана для оценки модели, так как она устойчива к дисбалансу классов и предоставляет интуитивно понятную интерпретацию способности модели различать положительные и отрицательные классы. В отличие от метрики logloss, она позволяет более точно оценить общую производительность модели в задачах классификации с дисбалансом классов."
   ]
  },
  {
   "cell_type": "code",
   "execution_count": 167,
   "metadata": {
    "execution": {
     "iopub.execute_input": "2024-12-11T20:01:43.262653Z",
     "iopub.status.busy": "2024-12-11T20:01:43.262259Z",
     "iopub.status.idle": "2024-12-11T20:06:21.442041Z",
     "shell.execute_reply": "2024-12-11T20:06:21.440800Z",
     "shell.execute_reply.started": "2024-12-11T20:01:43.262605Z"
    },
    "trusted": true
   },
   "outputs": [],
   "source": [
    "study = optuna.create_study(direction='maximize',sampler=optuna.samplers.RandomSampler(seed=2024))\n",
    "study.optimize(objective, n_trials=100)"
   ]
  },
  {
   "cell_type": "code",
   "execution_count": 168,
   "metadata": {
    "execution": {
     "iopub.execute_input": "2024-12-11T20:06:21.443749Z",
     "iopub.status.busy": "2024-12-11T20:06:21.443397Z",
     "iopub.status.idle": "2024-12-11T20:06:21.450611Z",
     "shell.execute_reply": "2024-12-11T20:06:21.449484Z",
     "shell.execute_reply.started": "2024-12-11T20:06:21.443703Z"
    },
    "trusted": true
   },
   "outputs": [
    {
     "name": "stdout",
     "output_type": "stream",
     "text": [
      "Best Hyperparameters: {'max_depth': 2, 'learning_rate': 0.08173956905266634, 'n_estimators': 698, 'subsample': 0.5351014689543196, 'colsample_bytree': 0.6164499948348017, 'reg_lambda': 2.2785826695319766, 'reg_alpha': 1.8897997774028217, 'gamma': 0.17297780329352525, 'min_child_weight': 3}\n"
     ]
    }
   ],
   "source": [
    "best_params = study.best_params\n",
    "print(f\"Best Hyperparameters: {best_params}\")"
   ]
  },
  {
   "cell_type": "code",
   "execution_count": 169,
   "metadata": {
    "execution": {
     "iopub.execute_input": "2024-12-11T20:06:21.452483Z",
     "iopub.status.busy": "2024-12-11T20:06:21.452012Z",
     "iopub.status.idle": "2024-12-11T20:06:22.928150Z",
     "shell.execute_reply": "2024-12-11T20:06:22.926397Z",
     "shell.execute_reply.started": "2024-12-11T20:06:21.452447Z"
    },
    "trusted": true
   },
   "outputs": [
    {
     "data": {
      "text/html": [
       "<iframe\n",
       "    scrolling=\"no\"\n",
       "    width=\"100%\"\n",
       "    height=\"545px\"\n",
       "    src=\"iframe_figures/figure_169.html\"\n",
       "    frameborder=\"0\"\n",
       "    allowfullscreen\n",
       "></iframe>\n"
      ]
     },
     "metadata": {},
     "output_type": "display_data"
    }
   ],
   "source": [
    "fig = optuna.visualization.plot_param_importances(study)\n",
    "fig.show(renderer='iframe')"
   ]
  },
  {
   "cell_type": "code",
   "execution_count": 170,
   "metadata": {
    "execution": {
     "iopub.execute_input": "2024-12-11T20:06:22.930323Z",
     "iopub.status.busy": "2024-12-11T20:06:22.929874Z",
     "iopub.status.idle": "2024-12-11T20:06:23.162158Z",
     "shell.execute_reply": "2024-12-11T20:06:23.161071Z",
     "shell.execute_reply.started": "2024-12-11T20:06:22.930278Z"
    },
    "trusted": true
   },
   "outputs": [
    {
     "data": {
      "text/html": [
       "<style>#sk-container-id-5 {color: black;background-color: white;}#sk-container-id-5 pre{padding: 0;}#sk-container-id-5 div.sk-toggleable {background-color: white;}#sk-container-id-5 label.sk-toggleable__label {cursor: pointer;display: block;width: 100%;margin-bottom: 0;padding: 0.3em;box-sizing: border-box;text-align: center;}#sk-container-id-5 label.sk-toggleable__label-arrow:before {content: \"▸\";float: left;margin-right: 0.25em;color: #696969;}#sk-container-id-5 label.sk-toggleable__label-arrow:hover:before {color: black;}#sk-container-id-5 div.sk-estimator:hover label.sk-toggleable__label-arrow:before {color: black;}#sk-container-id-5 div.sk-toggleable__content {max-height: 0;max-width: 0;overflow: hidden;text-align: left;background-color: #f0f8ff;}#sk-container-id-5 div.sk-toggleable__content pre {margin: 0.2em;color: black;border-radius: 0.25em;background-color: #f0f8ff;}#sk-container-id-5 input.sk-toggleable__control:checked~div.sk-toggleable__content {max-height: 200px;max-width: 100%;overflow: auto;}#sk-container-id-5 input.sk-toggleable__control:checked~label.sk-toggleable__label-arrow:before {content: \"▾\";}#sk-container-id-5 div.sk-estimator input.sk-toggleable__control:checked~label.sk-toggleable__label {background-color: #d4ebff;}#sk-container-id-5 div.sk-label input.sk-toggleable__control:checked~label.sk-toggleable__label {background-color: #d4ebff;}#sk-container-id-5 input.sk-hidden--visually {border: 0;clip: rect(1px 1px 1px 1px);clip: rect(1px, 1px, 1px, 1px);height: 1px;margin: -1px;overflow: hidden;padding: 0;position: absolute;width: 1px;}#sk-container-id-5 div.sk-estimator {font-family: monospace;background-color: #f0f8ff;border: 1px dotted black;border-radius: 0.25em;box-sizing: border-box;margin-bottom: 0.5em;}#sk-container-id-5 div.sk-estimator:hover {background-color: #d4ebff;}#sk-container-id-5 div.sk-parallel-item::after {content: \"\";width: 100%;border-bottom: 1px solid gray;flex-grow: 1;}#sk-container-id-5 div.sk-label:hover label.sk-toggleable__label {background-color: #d4ebff;}#sk-container-id-5 div.sk-serial::before {content: \"\";position: absolute;border-left: 1px solid gray;box-sizing: border-box;top: 0;bottom: 0;left: 50%;z-index: 0;}#sk-container-id-5 div.sk-serial {display: flex;flex-direction: column;align-items: center;background-color: white;padding-right: 0.2em;padding-left: 0.2em;position: relative;}#sk-container-id-5 div.sk-item {position: relative;z-index: 1;}#sk-container-id-5 div.sk-parallel {display: flex;align-items: stretch;justify-content: center;background-color: white;position: relative;}#sk-container-id-5 div.sk-item::before, #sk-container-id-5 div.sk-parallel-item::before {content: \"\";position: absolute;border-left: 1px solid gray;box-sizing: border-box;top: 0;bottom: 0;left: 50%;z-index: -1;}#sk-container-id-5 div.sk-parallel-item {display: flex;flex-direction: column;z-index: 1;position: relative;background-color: white;}#sk-container-id-5 div.sk-parallel-item:first-child::after {align-self: flex-end;width: 50%;}#sk-container-id-5 div.sk-parallel-item:last-child::after {align-self: flex-start;width: 50%;}#sk-container-id-5 div.sk-parallel-item:only-child::after {width: 0;}#sk-container-id-5 div.sk-dashed-wrapped {border: 1px dashed gray;margin: 0 0.4em 0.5em 0.4em;box-sizing: border-box;padding-bottom: 0.4em;background-color: white;}#sk-container-id-5 div.sk-label label {font-family: monospace;font-weight: bold;display: inline-block;line-height: 1.2em;}#sk-container-id-5 div.sk-label-container {text-align: center;}#sk-container-id-5 div.sk-container {/* jupyter's `normalize.less` sets `[hidden] { display: none; }` but bootstrap.min.css set `[hidden] { display: none !important; }` so we also need the `!important` here to be able to override the default hidden behavior on the sphinx rendered scikit-learn.org. See: https://github.com/scikit-learn/scikit-learn/issues/21755 */display: inline-block !important;position: relative;}#sk-container-id-5 div.sk-text-repr-fallback {display: none;}</style><div id=\"sk-container-id-5\" class=\"sk-top-container\"><div class=\"sk-text-repr-fallback\"><pre>XGBClassifier(base_score=None, booster=None, callbacks=None,\n",
       "              colsample_bylevel=None, colsample_bynode=None,\n",
       "              colsample_bytree=0.6164499948348017, device=None,\n",
       "              early_stopping_rounds=None, enable_categorical=False,\n",
       "              eval_metric=None, feature_types=None, gamma=0.17297780329352525,\n",
       "              grow_policy=None, importance_type=None,\n",
       "              interaction_constraints=None, learning_rate=0.08173956905266634,\n",
       "              max_bin=None, max_cat_threshold=None, max_cat_to_onehot=None,\n",
       "              max_delta_step=None, max_depth=2, max_leaves=None,\n",
       "              min_child_weight=3, missing=nan, monotone_constraints=None,\n",
       "              multi_strategy=None, n_estimators=698, n_jobs=None,\n",
       "              num_parallel_tree=None, random_state=2024, ...)</pre><b>In a Jupyter environment, please rerun this cell to show the HTML representation or trust the notebook. <br />On GitHub, the HTML representation is unable to render, please try loading this page with nbviewer.org.</b></div><div class=\"sk-container\" hidden><div class=\"sk-item\"><div class=\"sk-estimator sk-toggleable\"><input class=\"sk-toggleable__control sk-hidden--visually\" id=\"sk-estimator-id-5\" type=\"checkbox\" checked><label for=\"sk-estimator-id-5\" class=\"sk-toggleable__label sk-toggleable__label-arrow\">XGBClassifier</label><div class=\"sk-toggleable__content\"><pre>XGBClassifier(base_score=None, booster=None, callbacks=None,\n",
       "              colsample_bylevel=None, colsample_bynode=None,\n",
       "              colsample_bytree=0.6164499948348017, device=None,\n",
       "              early_stopping_rounds=None, enable_categorical=False,\n",
       "              eval_metric=None, feature_types=None, gamma=0.17297780329352525,\n",
       "              grow_policy=None, importance_type=None,\n",
       "              interaction_constraints=None, learning_rate=0.08173956905266634,\n",
       "              max_bin=None, max_cat_threshold=None, max_cat_to_onehot=None,\n",
       "              max_delta_step=None, max_depth=2, max_leaves=None,\n",
       "              min_child_weight=3, missing=nan, monotone_constraints=None,\n",
       "              multi_strategy=None, n_estimators=698, n_jobs=None,\n",
       "              num_parallel_tree=None, random_state=2024, ...)</pre></div></div></div></div></div>"
      ],
      "text/plain": [
       "XGBClassifier(base_score=None, booster=None, callbacks=None,\n",
       "              colsample_bylevel=None, colsample_bynode=None,\n",
       "              colsample_bytree=0.6164499948348017, device=None,\n",
       "              early_stopping_rounds=None, enable_categorical=False,\n",
       "              eval_metric=None, feature_types=None, gamma=0.17297780329352525,\n",
       "              grow_policy=None, importance_type=None,\n",
       "              interaction_constraints=None, learning_rate=0.08173956905266634,\n",
       "              max_bin=None, max_cat_threshold=None, max_cat_to_onehot=None,\n",
       "              max_delta_step=None, max_depth=2, max_leaves=None,\n",
       "              min_child_weight=3, missing=nan, monotone_constraints=None,\n",
       "              multi_strategy=None, n_estimators=698, n_jobs=None,\n",
       "              num_parallel_tree=None, random_state=2024, ...)"
      ]
     },
     "execution_count": 170,
     "metadata": {},
     "output_type": "execute_result"
    }
   ],
   "source": [
    "# Обучение модели с лучшими гиперпараметрами\n",
    "\n",
    "model = xgb.XGBClassifier(**best_params, random_state=2024)\n",
    "model.fit(X_train, y_train)"
   ]
  },
  {
   "cell_type": "code",
   "execution_count": 171,
   "metadata": {
    "execution": {
     "iopub.execute_input": "2024-12-11T20:06:23.163695Z",
     "iopub.status.busy": "2024-12-11T20:06:23.163288Z",
     "iopub.status.idle": "2024-12-11T20:06:23.187285Z",
     "shell.execute_reply": "2024-12-11T20:06:23.184888Z",
     "shell.execute_reply.started": "2024-12-11T20:06:23.163650Z"
    },
    "trusted": true
   },
   "outputs": [
    {
     "name": "stdout",
     "output_type": "stream",
     "text": [
      "F1 Score on test set: 0.8827586206896553\n",
      "AUC on test set: 0.9953993055555554\n"
     ]
    }
   ],
   "source": [
    "# Оценка качества модели на отложенной выборке\n",
    "\n",
    "y_pred = model.predict(X_test)\n",
    "y_pred_proba = model.predict_proba(X_test)[:, 1]\n",
    "\n",
    "# Вычисление F1 Score и AUC\n",
    "\n",
    "f1 = f1_score(y_test, y_pred)\n",
    "auc = roc_auc_score(y_test, y_pred_proba)\n",
    "\n",
    "print(f\"F1 Score on test set: {f1}\")\n",
    "print(f\"AUC on test set: {auc}\")"
   ]
  },
  {
   "cell_type": "markdown",
   "metadata": {},
   "source": [
    "## Интерпритация полученной модели"
   ]
  },
  {
   "cell_type": "code",
   "execution_count": 234,
   "metadata": {
    "execution": {
     "iopub.execute_input": "2024-12-11T20:15:35.912130Z",
     "iopub.status.busy": "2024-12-11T20:15:35.911725Z",
     "iopub.status.idle": "2024-12-11T20:15:36.262301Z",
     "shell.execute_reply": "2024-12-11T20:15:36.261107Z",
     "shell.execute_reply.started": "2024-12-11T20:15:35.912096Z"
    },
    "trusted": true
   },
   "outputs": [
    {
     "data": {
      "image/png": "[encoded data removed]",
      "text/plain": [
       "<Figure size 1000x600 with 1 Axes>"
      ]
     },
     "metadata": {},
     "output_type": "display_data"
    }
   ],
   "source": [
    "# Получение коэффициентов модели\n",
    "\n",
    "booster = model.get_booster()\n",
    "importance = booster.get_score(importance_type='weight')\n",
    "importance_df = pd.DataFrame({\n",
    "    'Feature': list(feature_labels),\n",
    "    'Importance': list(importance.values())\n",
    "})\n",
    "\n",
    "# Сортировка по важности\n",
    "\n",
    "importance_df = importance_df.sort_values(by='Importance', ascending=False)\n",
    "\n",
    "# Визуализация важности признаков\n",
    "\n",
    "plt.figure(figsize=(10, 6))\n",
    "plt.barh(importance_df['Feature'], importance_df['Importance'])\n",
    "plt.xlabel('Importance')\n",
    "plt.ylabel('Feature')\n",
    "plt.title('Feature Importance')\n",
    "plt.gca().invert_yaxis()\n",
    "plt.show()"
   ]
  },
  {
   "cell_type": "code",
   "execution_count": 231,
   "metadata": {
    "execution": {
     "iopub.execute_input": "2024-12-11T20:12:39.935362Z",
     "iopub.status.busy": "2024-12-11T20:12:39.934939Z",
     "iopub.status.idle": "2024-12-11T20:12:40.007499Z",
     "shell.execute_reply": "2024-12-11T20:12:40.005971Z",
     "shell.execute_reply.started": "2024-12-11T20:12:39.935324Z"
    },
    "trusted": true
   },
   "outputs": [
    {
     "data": {
      "text/html": [
       "<iframe\n",
       "    scrolling=\"no\"\n",
       "    width=\"100%\"\n",
       "    height=\"545px\"\n",
       "    src=\"iframe_figures/figure_231.html\"\n",
       "    frameborder=\"0\"\n",
       "    allowfullscreen\n",
       "></iframe>\n"
      ]
     },
     "metadata": {},
     "output_type": "display_data"
    }
   ],
   "source": [
    "# Матрица ошибок\n",
    "\n",
    "cm = confusion_matrix(y_test, y_pred)\n",
    "\n",
    "fig = ff.create_annotated_heatmap(\n",
    "    z=cm,\n",
    "    x=['Predicted No', 'Predicted Yes'],\n",
    "    y=['Actual No', 'Actual Yes'],\n",
    ")\n",
    "fig.update_layout(title='Матрица ошибок')\n",
    "fig.show(renderer='iframe')"
   ]
  },
  {
   "cell_type": "code",
   "execution_count": 235,
   "metadata": {
    "execution": {
     "iopub.execute_input": "2024-12-11T20:16:28.776746Z",
     "iopub.status.busy": "2024-12-11T20:16:28.776372Z",
     "iopub.status.idle": "2024-12-11T20:16:45.469708Z",
     "shell.execute_reply": "2024-12-11T20:16:45.468465Z",
     "shell.execute_reply.started": "2024-12-11T20:16:28.776715Z"
    },
    "trusted": true
   },
   "outputs": [],
   "source": [
    "import eli5\n",
    "from eli5.sklearn import PermutationImportance"
   ]
  },
  {
   "cell_type": "code",
   "execution_count": 237,
   "metadata": {
    "execution": {
     "iopub.execute_input": "2024-12-11T20:17:08.046508Z",
     "iopub.status.busy": "2024-12-11T20:17:08.045995Z",
     "iopub.status.idle": "2024-12-11T20:17:08.393813Z",
     "shell.execute_reply": "2024-12-11T20:17:08.392085Z",
     "shell.execute_reply.started": "2024-12-11T20:17:08.046469Z"
    },
    "trusted": true
   },
   "outputs": [
    {
     "data": {
      "text/html": [
       "\n",
       "    <style>\n",
       "    table.eli5-weights tr:hover {\n",
       "        filter: brightness(85%);\n",
       "    }\n",
       "</style>\n",
       "\n",
       "\n",
       "\n",
       "    \n",
       "\n",
       "    \n",
       "\n",
       "    \n",
       "\n",
       "    \n",
       "\n",
       "    \n",
       "\n",
       "    \n",
       "\n",
       "\n",
       "    \n",
       "\n",
       "    \n",
       "\n",
       "    \n",
       "\n",
       "    \n",
       "\n",
       "    \n",
       "\n",
       "    \n",
       "\n",
       "\n",
       "    \n",
       "\n",
       "    \n",
       "\n",
       "    \n",
       "\n",
       "    \n",
       "\n",
       "    \n",
       "        <table class=\"eli5-weights eli5-feature-importances\" style=\"border-collapse: collapse; border: none; margin-top: 0em; table-layout: auto;\">\n",
       "    <thead>\n",
       "    <tr style=\"border: none;\">\n",
       "        <th style=\"padding: 0 1em 0 0.5em; text-align: right; border: none;\">Weight</th>\n",
       "        <th style=\"padding: 0 0.5em 0 0.5em; text-align: left; border: none;\">Feature</th>\n",
       "    </tr>\n",
       "    </thead>\n",
       "    <tbody>\n",
       "    \n",
       "        <tr style=\"background-color: hsl(120, 100.00%, 80.00%); border: none;\">\n",
       "            <td style=\"padding: 0 1em 0 0.5em; text-align: right; border: none;\">\n",
       "                0.1121\n",
       "                \n",
       "                    &plusmn; 0.0127\n",
       "                \n",
       "            </td>\n",
       "            <td style=\"padding: 0 0.5em 0 0.5em; text-align: left; border: none;\">\n",
       "                Age\n",
       "            </td>\n",
       "        </tr>\n",
       "    \n",
       "        <tr style=\"background-color: hsl(120, 100.00%, 88.82%); border: none;\">\n",
       "            <td style=\"padding: 0 1em 0 0.5em; text-align: right; border: none;\">\n",
       "                0.0488\n",
       "                \n",
       "                    &plusmn; 0.0070\n",
       "                \n",
       "            </td>\n",
       "            <td style=\"padding: 0 0.5em 0 0.5em; text-align: left; border: none;\">\n",
       "                Work_Pressure\n",
       "            </td>\n",
       "        </tr>\n",
       "    \n",
       "        <tr style=\"background-color: hsl(120, 100.00%, 89.52%); border: none;\">\n",
       "            <td style=\"padding: 0 1em 0 0.5em; text-align: right; border: none;\">\n",
       "                0.0445\n",
       "                \n",
       "                    &plusmn; 0.0136\n",
       "                \n",
       "            </td>\n",
       "            <td style=\"padding: 0 0.5em 0 0.5em; text-align: left; border: none;\">\n",
       "                Have_you_ever_had_suicidal_thoughts_?_0\n",
       "            </td>\n",
       "        </tr>\n",
       "    \n",
       "        <tr style=\"background-color: hsl(120, 100.00%, 89.91%); border: none;\">\n",
       "            <td style=\"padding: 0 1em 0 0.5em; text-align: right; border: none;\">\n",
       "                0.0422\n",
       "                \n",
       "                    &plusmn; 0.0068\n",
       "                \n",
       "            </td>\n",
       "            <td style=\"padding: 0 0.5em 0 0.5em; text-align: left; border: none;\">\n",
       "                Academic_Pressure\n",
       "            </td>\n",
       "        </tr>\n",
       "    \n",
       "        <tr style=\"background-color: hsl(120, 100.00%, 91.68%); border: none;\">\n",
       "            <td style=\"padding: 0 1em 0 0.5em; text-align: right; border: none;\">\n",
       "                0.0320\n",
       "                \n",
       "                    &plusmn; 0.0077\n",
       "                \n",
       "            </td>\n",
       "            <td style=\"padding: 0 0.5em 0 0.5em; text-align: left; border: none;\">\n",
       "                Job_Satisfaction\n",
       "            </td>\n",
       "        </tr>\n",
       "    \n",
       "        <tr style=\"background-color: hsl(120, 100.00%, 92.18%); border: none;\">\n",
       "            <td style=\"padding: 0 1em 0 0.5em; text-align: right; border: none;\">\n",
       "                0.0293\n",
       "                \n",
       "                    &plusmn; 0.0089\n",
       "                \n",
       "            </td>\n",
       "            <td style=\"padding: 0 0.5em 0 0.5em; text-align: left; border: none;\">\n",
       "                Financial_Stress\n",
       "            </td>\n",
       "        </tr>\n",
       "    \n",
       "        <tr style=\"background-color: hsl(120, 100.00%, 93.55%); border: none;\">\n",
       "            <td style=\"padding: 0 1em 0 0.5em; text-align: right; border: none;\">\n",
       "                0.0223\n",
       "                \n",
       "                    &plusmn; 0.0098\n",
       "                \n",
       "            </td>\n",
       "            <td style=\"padding: 0 0.5em 0 0.5em; text-align: left; border: none;\">\n",
       "                Work/Study_Hours\n",
       "            </td>\n",
       "        </tr>\n",
       "    \n",
       "        <tr style=\"background-color: hsl(120, 100.00%, 94.62%); border: none;\">\n",
       "            <td style=\"padding: 0 1em 0 0.5em; text-align: right; border: none;\">\n",
       "                0.0172\n",
       "                \n",
       "                    &plusmn; 0.0046\n",
       "                \n",
       "            </td>\n",
       "            <td style=\"padding: 0 0.5em 0 0.5em; text-align: left; border: none;\">\n",
       "                Study_Satisfaction\n",
       "            </td>\n",
       "        </tr>\n",
       "    \n",
       "        <tr style=\"background-color: hsl(120, 100.00%, 95.23%); border: none;\">\n",
       "            <td style=\"padding: 0 1em 0 0.5em; text-align: right; border: none;\">\n",
       "                0.0145\n",
       "                \n",
       "                    &plusmn; 0.0072\n",
       "                \n",
       "            </td>\n",
       "            <td style=\"padding: 0 0.5em 0 0.5em; text-align: left; border: none;\">\n",
       "                Have_you_ever_had_suicidal_thoughts_?_1\n",
       "            </td>\n",
       "        </tr>\n",
       "    \n",
       "        <tr style=\"background-color: hsl(120, 100.00%, 95.79%); border: none;\">\n",
       "            <td style=\"padding: 0 1em 0 0.5em; text-align: right; border: none;\">\n",
       "                0.0121\n",
       "                \n",
       "                    &plusmn; 0.0067\n",
       "                \n",
       "            </td>\n",
       "            <td style=\"padding: 0 0.5em 0 0.5em; text-align: left; border: none;\">\n",
       "                Dietary_Habits\n",
       "            </td>\n",
       "        </tr>\n",
       "    \n",
       "        <tr style=\"background-color: hsl(120, 100.00%, 96.58%); border: none;\">\n",
       "            <td style=\"padding: 0 1em 0 0.5em; text-align: right; border: none;\">\n",
       "                0.0090\n",
       "                \n",
       "                    &plusmn; 0.0058\n",
       "                \n",
       "            </td>\n",
       "            <td style=\"padding: 0 0.5em 0 0.5em; text-align: left; border: none;\">\n",
       "                Sleep_Duration\n",
       "            </td>\n",
       "        </tr>\n",
       "    \n",
       "        <tr style=\"background-color: hsl(120, 100.00%, 97.35%); border: none;\">\n",
       "            <td style=\"padding: 0 1em 0 0.5em; text-align: right; border: none;\">\n",
       "                0.0063\n",
       "                \n",
       "                    &plusmn; 0.0046\n",
       "                \n",
       "            </td>\n",
       "            <td style=\"padding: 0 0.5em 0 0.5em; text-align: left; border: none;\">\n",
       "                Degree\n",
       "            </td>\n",
       "        </tr>\n",
       "    \n",
       "        <tr style=\"background-color: hsl(120, 100.00%, 98.23%); border: none;\">\n",
       "            <td style=\"padding: 0 1em 0 0.5em; text-align: right; border: none;\">\n",
       "                0.0035\n",
       "                \n",
       "                    &plusmn; 0.0063\n",
       "                \n",
       "            </td>\n",
       "            <td style=\"padding: 0 0.5em 0 0.5em; text-align: left; border: none;\">\n",
       "                Family_History_of_Mental_Illness_1\n",
       "            </td>\n",
       "        </tr>\n",
       "    \n",
       "        <tr style=\"background-color: hsl(120, 100.00%, 98.51%); border: none;\">\n",
       "            <td style=\"padding: 0 1em 0 0.5em; text-align: right; border: none;\">\n",
       "                0.0027\n",
       "                \n",
       "                    &plusmn; 0.0072\n",
       "                \n",
       "            </td>\n",
       "            <td style=\"padding: 0 0.5em 0 0.5em; text-align: left; border: none;\">\n",
       "                Profession\n",
       "            </td>\n",
       "        </tr>\n",
       "    \n",
       "        <tr style=\"background-color: hsl(120, 100.00%, 98.67%); border: none;\">\n",
       "            <td style=\"padding: 0 1em 0 0.5em; text-align: right; border: none;\">\n",
       "                0.0023\n",
       "                \n",
       "                    &plusmn; 0.0016\n",
       "                \n",
       "            </td>\n",
       "            <td style=\"padding: 0 0.5em 0 0.5em; text-align: left; border: none;\">\n",
       "                Working_Professional_or_Student_0\n",
       "            </td>\n",
       "        </tr>\n",
       "    \n",
       "        <tr style=\"background-color: hsl(120, 100.00%, 98.83%); border: none;\">\n",
       "            <td style=\"padding: 0 1em 0 0.5em; text-align: right; border: none;\">\n",
       "                0.0020\n",
       "                \n",
       "                    &plusmn; 0.0035\n",
       "                \n",
       "            </td>\n",
       "            <td style=\"padding: 0 0.5em 0 0.5em; text-align: left; border: none;\">\n",
       "                Working_Professional_or_Student_1\n",
       "            </td>\n",
       "        </tr>\n",
       "    \n",
       "        <tr style=\"background-color: hsl(120, 100.00%, 98.83%); border: none;\">\n",
       "            <td style=\"padding: 0 1em 0 0.5em; text-align: right; border: none;\">\n",
       "                0.0020\n",
       "                \n",
       "                    &plusmn; 0.0035\n",
       "                \n",
       "            </td>\n",
       "            <td style=\"padding: 0 0.5em 0 0.5em; text-align: left; border: none;\">\n",
       "                Gender_0\n",
       "            </td>\n",
       "        </tr>\n",
       "    \n",
       "        <tr style=\"background-color: hsl(120, 100.00%, 98.83%); border: none;\">\n",
       "            <td style=\"padding: 0 1em 0 0.5em; text-align: right; border: none;\">\n",
       "                0.0020\n",
       "                \n",
       "                    &plusmn; 0.0035\n",
       "                \n",
       "            </td>\n",
       "            <td style=\"padding: 0 0.5em 0 0.5em; text-align: left; border: none;\">\n",
       "                Family_History_of_Mental_Illness_0\n",
       "            </td>\n",
       "        </tr>\n",
       "    \n",
       "        <tr style=\"background-color: hsl(120, 100.00%, 99.00%); border: none;\">\n",
       "            <td style=\"padding: 0 1em 0 0.5em; text-align: right; border: none;\">\n",
       "                0.0016\n",
       "                \n",
       "                    &plusmn; 0.0038\n",
       "                \n",
       "            </td>\n",
       "            <td style=\"padding: 0 0.5em 0 0.5em; text-align: left; border: none;\">\n",
       "                CGPA\n",
       "            </td>\n",
       "        </tr>\n",
       "    \n",
       "        <tr style=\"background-color: hsl(120, 100.00%, 99.62%); border: none;\">\n",
       "            <td style=\"padding: 0 1em 0 0.5em; text-align: right; border: none;\">\n",
       "                0.0004\n",
       "                \n",
       "                    &plusmn; 0.0029\n",
       "                \n",
       "            </td>\n",
       "            <td style=\"padding: 0 0.5em 0 0.5em; text-align: left; border: none;\">\n",
       "                City\n",
       "            </td>\n",
       "        </tr>\n",
       "    \n",
       "    \n",
       "        \n",
       "            <tr style=\"background-color: hsl(120, 100.00%, 99.62%); border: none;\">\n",
       "                <td colspan=\"2\" style=\"padding: 0 0.5em 0 0.5em; text-align: center; border: none; white-space: nowrap;\">\n",
       "                    <i>&hellip; 1 more &hellip;</i>\n",
       "                </td>\n",
       "            </tr>\n",
       "        \n",
       "    \n",
       "    </tbody>\n",
       "</table>\n",
       "    \n",
       "\n",
       "    \n",
       "\n",
       "\n",
       "    \n",
       "\n",
       "    \n",
       "\n",
       "    \n",
       "\n",
       "    \n",
       "\n",
       "    \n",
       "\n",
       "    \n",
       "\n",
       "\n",
       "\n"
      ],
      "text/plain": [
       "<IPython.core.display.HTML object>"
      ]
     },
     "execution_count": 237,
     "metadata": {},
     "output_type": "execute_result"
    }
   ],
   "source": [
    "# Перестановочная важность признаков\n",
    "\n",
    "perm = PermutationImportance(model, random_state=2024).fit(X_test, y_test)\n",
    "eli5.show_weights(perm, feature_names=list(feature_labels))"
   ]
  },
  {
   "cell_type": "code",
   "execution_count": 247,
   "metadata": {
    "execution": {
     "iopub.execute_input": "2024-12-11T20:21:26.482498Z",
     "iopub.status.busy": "2024-12-11T20:21:26.482064Z",
     "iopub.status.idle": "2024-12-11T20:21:27.248975Z",
     "shell.execute_reply": "2024-12-11T20:21:27.247741Z",
     "shell.execute_reply.started": "2024-12-11T20:21:26.482461Z"
    },
    "trusted": true
   },
   "outputs": [
    {
     "data": {
      "image/png": "[encoded data removed]",
      "text/plain": [
       "<Figure size 800x950 with 1 Axes>"
      ]
     },
     "metadata": {},
     "output_type": "display_data"
    }
   ],
   "source": [
    "import shap\n",
    "\n",
    "# Создание объяснителя SHAP\n",
    "\n",
    "explainer = shap.TreeExplainer(model)\n",
    "shap_values = explainer.shap_values(X_test)\n",
    "\n",
    "# Визуализация важности признаков с помощью SHAP\n",
    "\n",
    "shap.summary_plot(shap_values, list(feature_labels))"
   ]
  },
  {
   "cell_type": "markdown",
   "metadata": {},
   "source": [
    "На основе визуализаций важности признаков и интерпретации модели с использованием SHAP можно сделать вывод, что модель адекватно использует признаки для предсказания депрессии. Важные признаки, такие как возраст, давление на работе или учебе и баланс работы/учебы, оказывают значительное влияние на предсказания модели, что соответствует ожиданиям. Модель демонстрирует хорошую способность различать классы, что подтверждается высокими значениями метрик F1 Score и AUC. Однако улучшение от базовой модели при применении более сложной модели XGBoost оказалось незначительным по метрике F1, что может указывать на необходимость дальнейшего анализа и возможной оптимизации признаков или гиперпараметров."
   ]
  },
  {
   "cell_type": "markdown",
   "metadata": {},
   "source": [
    "Спасибо за внимание ❤"
   ]
  }
 ],
 "metadata": {
  "kaggle": {
   "accelerator": "none",
   "dataSources": [
    {
     "datasetId": 5868381,
     "sourceId": 9616093,
     "sourceType": "datasetVersion"
    }
   ],
   "dockerImageVersionId": 30786,
   "isGpuEnabled": false,
   "isInternetEnabled": true,
   "language": "python",
   "sourceType": "notebook"
  },
  "kernelspec": {
   "display_name": "Python 3",
   "language": "python",
   "name": "python3"
  },
  "language_info": {
   "codemirror_mode": {
    "name": "ipython",
    "version": 3
   },
   "file_extension": ".py",
   "mimetype": "text/x-python",
   "name": "python",
   "nbconvert_exporter": "python",
   "pygments_lexer": "ipython3",
   "version": "3.8.10"
  }
 },
 "nbformat": 4,
 "nbformat_minor": 4
}
