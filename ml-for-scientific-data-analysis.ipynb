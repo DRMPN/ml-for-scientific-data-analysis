{
 "cells": [
  {
   "cell_type": "code",
   "execution_count": 1,
   "metadata": {
    "_cell_guid": "b1076dfc-b9ad-4769-8c92-a6c4dae69d19",
    "_uuid": "8f2839f25d086af736a60e9eeb907d3b93b6e0e5",
    "execution": {
     "iopub.execute_input": "2024-11-18T16:43:03.826850Z",
     "iopub.status.busy": "2024-11-18T16:43:03.825995Z",
     "iopub.status.idle": "2024-11-18T16:43:03.834072Z",
     "shell.execute_reply": "2024-11-18T16:43:03.832554Z",
     "shell.execute_reply.started": "2024-11-18T16:43:03.826799Z"
    },
    "trusted": true
   },
   "outputs": [],
   "source": [
    "import numpy as np \n",
    "import pandas as pd\n",
    "import plotly.express as px\n",
    "import plotly.figure_factory as ff\n",
    "\n",
    "from category_encoders import TargetEncoder, BinaryEncoder\n",
    "\n",
    "from sklearn.preprocessing import StandardScaler, OrdinalEncoder, LabelEncoder\n",
    "from sklearn.metrics import f1_score, confusion_matrix\n",
    "from sklearn.model_selection import train_test_split\n",
    "from sklearn.linear_model import LogisticRegression"
   ]
  },
  {
   "cell_type": "markdown",
   "metadata": {},
   "source": [
    "# 1. Выбрать и обосновать метрику для измерения качества"
   ]
  },
  {
   "cell_type": "markdown",
   "metadata": {},
   "source": [
    "## Выбор метрики"
   ]
  },
  {
   "cell_type": "markdown",
   "metadata": {},
   "source": [
    "По описанию датасета можно сделать вывод, что решить придется задачу бинарной классификации.\n",
    "\n",
    "Для этих задач обычно используют несколько метрик - Accuracy, F1, AUC-ROC и др.\n",
    "Прежде чем сделать выбор в пользу той или иной, необходимо посмотреть на значение целевой переменной."
   ]
  },
  {
   "cell_type": "code",
   "execution_count": 2,
   "metadata": {
    "execution": {
     "iopub.execute_input": "2024-11-18T15:50:26.167008Z",
     "iopub.status.busy": "2024-11-18T15:50:26.165854Z",
     "iopub.status.idle": "2024-11-18T15:50:26.241783Z",
     "shell.execute_reply": "2024-11-18T15:50:26.240617Z",
     "shell.execute_reply.started": "2024-11-18T15:50:26.166924Z"
    },
    "trusted": true
   },
   "outputs": [
    {
     "data": {
      "text/html": [
       "<div>\n",
       "<style scoped>\n",
       "    .dataframe tbody tr th:only-of-type {\n",
       "        vertical-align: middle;\n",
       "    }\n",
       "\n",
       "    .dataframe tbody tr th {\n",
       "        vertical-align: top;\n",
       "    }\n",
       "\n",
       "    .dataframe thead th {\n",
       "        text-align: right;\n",
       "    }\n",
       "</style>\n",
       "<table border=\"1\" class=\"dataframe\">\n",
       "  <thead>\n",
       "    <tr style=\"text-align: right;\">\n",
       "      <th></th>\n",
       "      <th>Name</th>\n",
       "      <th>Gender</th>\n",
       "      <th>Age</th>\n",
       "      <th>City</th>\n",
       "      <th>Working Professional or Student</th>\n",
       "      <th>Profession</th>\n",
       "      <th>Academic Pressure</th>\n",
       "      <th>Work Pressure</th>\n",
       "      <th>CGPA</th>\n",
       "      <th>Study Satisfaction</th>\n",
       "      <th>Job Satisfaction</th>\n",
       "      <th>Sleep Duration</th>\n",
       "      <th>Dietary Habits</th>\n",
       "      <th>Degree</th>\n",
       "      <th>Have you ever had suicidal thoughts ?</th>\n",
       "      <th>Work/Study Hours</th>\n",
       "      <th>Financial Stress</th>\n",
       "      <th>Family History of Mental Illness</th>\n",
       "      <th>Depression</th>\n",
       "    </tr>\n",
       "  </thead>\n",
       "  <tbody>\n",
       "    <tr>\n",
       "      <th>0</th>\n",
       "      <td>Pooja</td>\n",
       "      <td>Female</td>\n",
       "      <td>37</td>\n",
       "      <td>Ghaziabad</td>\n",
       "      <td>Working Professional</td>\n",
       "      <td>Teacher</td>\n",
       "      <td>NaN</td>\n",
       "      <td>2.0</td>\n",
       "      <td>NaN</td>\n",
       "      <td>NaN</td>\n",
       "      <td>4.0</td>\n",
       "      <td>7-8 hours</td>\n",
       "      <td>Moderate</td>\n",
       "      <td>MA</td>\n",
       "      <td>No</td>\n",
       "      <td>6</td>\n",
       "      <td>2</td>\n",
       "      <td>No</td>\n",
       "      <td>No</td>\n",
       "    </tr>\n",
       "    <tr>\n",
       "      <th>1</th>\n",
       "      <td>Reyansh</td>\n",
       "      <td>Male</td>\n",
       "      <td>60</td>\n",
       "      <td>Kalyan</td>\n",
       "      <td>Working Professional</td>\n",
       "      <td>Financial Analyst</td>\n",
       "      <td>NaN</td>\n",
       "      <td>4.0</td>\n",
       "      <td>NaN</td>\n",
       "      <td>NaN</td>\n",
       "      <td>3.0</td>\n",
       "      <td>5-6 hours</td>\n",
       "      <td>Unhealthy</td>\n",
       "      <td>B.Com</td>\n",
       "      <td>Yes</td>\n",
       "      <td>0</td>\n",
       "      <td>4</td>\n",
       "      <td>Yes</td>\n",
       "      <td>No</td>\n",
       "    </tr>\n",
       "    <tr>\n",
       "      <th>2</th>\n",
       "      <td>Manvi</td>\n",
       "      <td>Female</td>\n",
       "      <td>42</td>\n",
       "      <td>Bhopal</td>\n",
       "      <td>Working Professional</td>\n",
       "      <td>Teacher</td>\n",
       "      <td>NaN</td>\n",
       "      <td>2.0</td>\n",
       "      <td>NaN</td>\n",
       "      <td>NaN</td>\n",
       "      <td>3.0</td>\n",
       "      <td>5-6 hours</td>\n",
       "      <td>Moderate</td>\n",
       "      <td>M.Com</td>\n",
       "      <td>No</td>\n",
       "      <td>0</td>\n",
       "      <td>2</td>\n",
       "      <td>No</td>\n",
       "      <td>No</td>\n",
       "    </tr>\n",
       "    <tr>\n",
       "      <th>3</th>\n",
       "      <td>Isha</td>\n",
       "      <td>Female</td>\n",
       "      <td>44</td>\n",
       "      <td>Thane</td>\n",
       "      <td>Working Professional</td>\n",
       "      <td>Teacher</td>\n",
       "      <td>NaN</td>\n",
       "      <td>3.0</td>\n",
       "      <td>NaN</td>\n",
       "      <td>NaN</td>\n",
       "      <td>5.0</td>\n",
       "      <td>7-8 hours</td>\n",
       "      <td>Healthy</td>\n",
       "      <td>MD</td>\n",
       "      <td>Yes</td>\n",
       "      <td>1</td>\n",
       "      <td>2</td>\n",
       "      <td>Yes</td>\n",
       "      <td>No</td>\n",
       "    </tr>\n",
       "    <tr>\n",
       "      <th>4</th>\n",
       "      <td>Aarav</td>\n",
       "      <td>Male</td>\n",
       "      <td>48</td>\n",
       "      <td>Indore</td>\n",
       "      <td>Working Professional</td>\n",
       "      <td>UX/UI Designer</td>\n",
       "      <td>NaN</td>\n",
       "      <td>4.0</td>\n",
       "      <td>NaN</td>\n",
       "      <td>NaN</td>\n",
       "      <td>3.0</td>\n",
       "      <td>7-8 hours</td>\n",
       "      <td>Moderate</td>\n",
       "      <td>BE</td>\n",
       "      <td>Yes</td>\n",
       "      <td>6</td>\n",
       "      <td>5</td>\n",
       "      <td>Yes</td>\n",
       "      <td>No</td>\n",
       "    </tr>\n",
       "  </tbody>\n",
       "</table>\n",
       "</div>"
      ],
      "text/plain": [
       "      Name  Gender  Age       City Working Professional or Student  \\\n",
       "0    Pooja  Female   37  Ghaziabad            Working Professional   \n",
       "1  Reyansh    Male   60     Kalyan            Working Professional   \n",
       "2    Manvi  Female   42     Bhopal            Working Professional   \n",
       "3     Isha  Female   44      Thane            Working Professional   \n",
       "4    Aarav    Male   48     Indore            Working Professional   \n",
       "\n",
       "          Profession  Academic Pressure  Work Pressure  CGPA  \\\n",
       "0            Teacher                NaN            2.0   NaN   \n",
       "1  Financial Analyst                NaN            4.0   NaN   \n",
       "2            Teacher                NaN            2.0   NaN   \n",
       "3            Teacher                NaN            3.0   NaN   \n",
       "4     UX/UI Designer                NaN            4.0   NaN   \n",
       "\n",
       "   Study Satisfaction  Job Satisfaction Sleep Duration Dietary Habits Degree  \\\n",
       "0                 NaN               4.0      7-8 hours       Moderate     MA   \n",
       "1                 NaN               3.0      5-6 hours      Unhealthy  B.Com   \n",
       "2                 NaN               3.0      5-6 hours       Moderate  M.Com   \n",
       "3                 NaN               5.0      7-8 hours        Healthy     MD   \n",
       "4                 NaN               3.0      7-8 hours       Moderate     BE   \n",
       "\n",
       "  Have you ever had suicidal thoughts ?  Work/Study Hours  Financial Stress  \\\n",
       "0                                    No                 6                 2   \n",
       "1                                   Yes                 0                 4   \n",
       "2                                    No                 0                 2   \n",
       "3                                   Yes                 1                 2   \n",
       "4                                   Yes                 6                 5   \n",
       "\n",
       "  Family History of Mental Illness Depression  \n",
       "0                               No         No  \n",
       "1                              Yes         No  \n",
       "2                               No         No  \n",
       "3                              Yes         No  \n",
       "4                              Yes         No  "
      ]
     },
     "execution_count": 2,
     "metadata": {},
     "output_type": "execute_result"
    }
   ],
   "source": [
    "# Загружаем датасет\n",
    "df = pd.read_csv(\"./final_depression_dataset_1.csv\")\n",
    "df.head()"
   ]
  },
  {
   "cell_type": "markdown",
   "metadata": {},
   "source": [
    "## Обоснование метрики"
   ]
  },
  {
   "cell_type": "markdown",
   "metadata": {},
   "source": [
    "Посмотрим на распределение классов для целевой переменной."
   ]
  },
  {
   "cell_type": "code",
   "execution_count": 3,
   "metadata": {
    "execution": {
     "iopub.execute_input": "2024-11-18T15:50:26.245293Z",
     "iopub.status.busy": "2024-11-18T15:50:26.244023Z",
     "iopub.status.idle": "2024-11-18T15:50:26.263372Z",
     "shell.execute_reply": "2024-11-18T15:50:26.261505Z",
     "shell.execute_reply.started": "2024-11-18T15:50:26.245234Z"
    },
    "trusted": true
   },
   "outputs": [
    {
     "data": {
      "text/plain": [
       "No     0.821987\n",
       "Yes    0.178013\n",
       "Name: Depression, dtype: float64"
      ]
     },
     "execution_count": 3,
     "metadata": {},
     "output_type": "execute_result"
    }
   ],
   "source": [
    "class_counts = df['Depression'].value_counts()\n",
    "total_counts = len(df)\n",
    "(class_counts / total_counts) * 1"
   ]
  },
  {
   "cell_type": "markdown",
   "metadata": {},
   "source": [
    "Из полученных значений видно, что наблюдается дисбаланс классов. Метрика accuracy в данном случае нам точно не подойдет. Можно сделать выбор в пользу F1 меры т.к. она хорошо подходит для датасетов с несбалансированной целевой переменной. "
   ]
  },
  {
   "cell_type": "markdown",
   "metadata": {},
   "source": [
    "# 2. Провести EDA на своих данных"
   ]
  },
  {
   "cell_type": "markdown",
   "metadata": {},
   "source": [
    "## Базовые характеристики"
   ]
  },
  {
   "cell_type": "markdown",
   "metadata": {},
   "source": [
    "Рассмотрим базовые характеристики датасета.  \n",
    "Посмотрим размерность датасета и типы данных в столбцах."
   ]
  },
  {
   "cell_type": "code",
   "execution_count": 4,
   "metadata": {
    "execution": {
     "iopub.execute_input": "2024-11-18T15:50:26.268024Z",
     "iopub.status.busy": "2024-11-18T15:50:26.267059Z",
     "iopub.status.idle": "2024-11-18T15:50:26.281311Z",
     "shell.execute_reply": "2024-11-18T15:50:26.280065Z",
     "shell.execute_reply.started": "2024-11-18T15:50:26.267942Z"
    },
    "trusted": true
   },
   "outputs": [
    {
     "name": "stdout",
     "output_type": "stream",
     "text": [
      "(2556, 19)\n"
     ]
    },
    {
     "data": {
      "text/plain": [
       "Name                                      object\n",
       "Gender                                    object\n",
       "Age                                        int64\n",
       "City                                      object\n",
       "Working Professional or Student           object\n",
       "Profession                                object\n",
       "Academic Pressure                        float64\n",
       "Work Pressure                            float64\n",
       "CGPA                                     float64\n",
       "Study Satisfaction                       float64\n",
       "Job Satisfaction                         float64\n",
       "Sleep Duration                            object\n",
       "Dietary Habits                            object\n",
       "Degree                                    object\n",
       "Have you ever had suicidal thoughts ?     object\n",
       "Work/Study Hours                           int64\n",
       "Financial Stress                           int64\n",
       "Family History of Mental Illness          object\n",
       "Depression                                object\n",
       "dtype: object"
      ]
     },
     "execution_count": 4,
     "metadata": {},
     "output_type": "execute_result"
    }
   ],
   "source": [
    "print(df.shape)\n",
    "df.dtypes"
   ]
  },
  {
   "cell_type": "markdown",
   "metadata": {},
   "source": [
    "Можно заметить, что датасет не очень большой. Есть определенное количество категориальных признаков, которые придется обработать в дальнейшем."
   ]
  },
  {
   "cell_type": "code",
   "execution_count": 5,
   "metadata": {
    "execution": {
     "iopub.execute_input": "2024-11-18T15:50:26.284597Z",
     "iopub.status.busy": "2024-11-18T15:50:26.283263Z",
     "iopub.status.idle": "2024-11-18T15:50:26.310791Z",
     "shell.execute_reply": "2024-11-18T15:50:26.309415Z",
     "shell.execute_reply.started": "2024-11-18T15:50:26.284537Z"
    },
    "trusted": true
   },
   "outputs": [
    {
     "data": {
      "text/plain": [
       "0"
      ]
     },
     "execution_count": 5,
     "metadata": {},
     "output_type": "execute_result"
    }
   ],
   "source": [
    "# Посмотрим на количество дубликатов\n",
    "df.duplicated().sum()"
   ]
  },
  {
   "cell_type": "markdown",
   "metadata": {},
   "source": [
    "Выделим целевую переменную. Разделим данные на численные и категориальные."
   ]
  },
  {
   "cell_type": "code",
   "execution_count": 6,
   "metadata": {
    "execution": {
     "iopub.execute_input": "2024-11-18T15:50:26.313429Z",
     "iopub.status.busy": "2024-11-18T15:50:26.312502Z",
     "iopub.status.idle": "2024-11-18T15:50:26.321596Z",
     "shell.execute_reply": "2024-11-18T15:50:26.320418Z",
     "shell.execute_reply.started": "2024-11-18T15:50:26.313373Z"
    },
    "trusted": true
   },
   "outputs": [],
   "source": [
    "target_column=df[\"Depression\"]\n",
    "categorical_columns = df.select_dtypes(include=['object']).columns.drop(target_column.name)\n",
    "numerical_columns = df.select_dtypes(exclude=['object']).columns"
   ]
  },
  {
   "cell_type": "code",
   "execution_count": 7,
   "metadata": {
    "execution": {
     "iopub.execute_input": "2024-11-18T15:50:26.323832Z",
     "iopub.status.busy": "2024-11-18T15:50:26.323399Z",
     "iopub.status.idle": "2024-11-18T15:50:26.339843Z",
     "shell.execute_reply": "2024-11-18T15:50:26.338550Z",
     "shell.execute_reply.started": "2024-11-18T15:50:26.323791Z"
    },
    "trusted": true
   },
   "outputs": [
    {
     "name": "stdout",
     "output_type": "stream",
     "text": [
      "Categorical:  ['Name', 'Gender', 'City', 'Working Professional or Student', 'Profession', 'Sleep Duration', 'Dietary Habits', 'Degree', 'Have you ever had suicidal thoughts ?', 'Family History of Mental Illness']\n",
      "\n",
      "Numerical:  ['Age', 'Academic Pressure', 'Work Pressure', 'CGPA', 'Study Satisfaction', 'Job Satisfaction', 'Work/Study Hours', 'Financial Stress']\n"
     ]
    }
   ],
   "source": [
    "print(\"Categorical: \", categorical_columns.tolist())\n",
    "print()\n",
    "print(\"Numerical: \",numerical_columns.tolist())"
   ]
  },
  {
   "cell_type": "markdown",
   "metadata": {},
   "source": [
    "### Категориальные признаки"
   ]
  },
  {
   "cell_type": "markdown",
   "metadata": {},
   "source": [
    "Выведем количество пропусков."
   ]
  },
  {
   "cell_type": "code",
   "execution_count": 8,
   "metadata": {
    "execution": {
     "iopub.execute_input": "2024-11-18T15:50:26.342359Z",
     "iopub.status.busy": "2024-11-18T15:50:26.341850Z",
     "iopub.status.idle": "2024-11-18T15:50:26.370874Z",
     "shell.execute_reply": "2024-11-18T15:50:26.369311Z",
     "shell.execute_reply.started": "2024-11-18T15:50:26.342302Z"
    },
    "trusted": true
   },
   "outputs": [
    {
     "data": {
      "text/plain": [
       "Name                                       0\n",
       "Gender                                     0\n",
       "City                                       0\n",
       "Working Professional or Student            0\n",
       "Profession                               673\n",
       "Sleep Duration                             0\n",
       "Dietary Habits                             0\n",
       "Degree                                     0\n",
       "Have you ever had suicidal thoughts ?      0\n",
       "Family History of Mental Illness           0\n",
       "dtype: int64"
      ]
     },
     "execution_count": 8,
     "metadata": {},
     "output_type": "execute_result"
    }
   ],
   "source": [
    "df[categorical_columns].isnull().sum()"
   ]
  },
  {
   "cell_type": "markdown",
   "metadata": {},
   "source": [
    "Только Profession имеет пропуски. На данном этапе признак может считаться важным, поэтому не стоит его отбрасывать.  "
   ]
  },
  {
   "cell_type": "markdown",
   "metadata": {},
   "source": [
    "Отобразим количество уникальных значений для каждого из категориального признака."
   ]
  },
  {
   "cell_type": "code",
   "execution_count": 9,
   "metadata": {
    "execution": {
     "iopub.execute_input": "2024-11-18T15:50:26.373402Z",
     "iopub.status.busy": "2024-11-18T15:50:26.372649Z",
     "iopub.status.idle": "2024-11-18T15:50:26.387838Z",
     "shell.execute_reply": "2024-11-18T15:50:26.386419Z",
     "shell.execute_reply.started": "2024-11-18T15:50:26.373340Z"
    },
    "trusted": true
   },
   "outputs": [
    {
     "name": "stdout",
     "output_type": "stream",
     "text": [
      "'Name' has 216 unique categories.\n",
      "'Gender' has 2 unique categories.\n",
      "'City' has 30 unique categories.\n",
      "'Working Professional or Student' has 2 unique categories.\n",
      "'Profession' has 35 unique categories.\n",
      "'Sleep Duration' has 4 unique categories.\n",
      "'Dietary Habits' has 3 unique categories.\n",
      "'Degree' has 27 unique categories.\n",
      "'Have you ever had suicidal thoughts ?' has 2 unique categories.\n",
      "'Family History of Mental Illness' has 2 unique categories.\n"
     ]
    }
   ],
   "source": [
    "for column in categorical_columns:\n",
    "    num_unique = df[column].nunique()\n",
    "    print(f\"'{column}' has {num_unique} unique categories.\")"
   ]
  },
  {
   "cell_type": "markdown",
   "metadata": {},
   "source": [
    "Как видно, Name имеет высокую кардинальность. Она не достаточно полезная для предсказания модели, поэтому ее можно удалить или попробовать преобразовать.\n",
    "\n",
    "City и Profession имеют среднюю кардинальность и могут являться достаточно полезными, поэтому стоит использовать правильное кодирование для этих признаков.\n",
    "\n",
    "Sleep Duration, Dietary Habits и Degree являются ordinal категориями и должны быть закодированы с использованием ordinal encoding.\n",
    "\n",
    "Признаки, содержащие только 2 уникальных значения являются бинарными и их легко можно закодировать. "
   ]
  },
  {
   "cell_type": "markdown",
   "metadata": {},
   "source": [
    "### Численные признаки"
   ]
  },
  {
   "cell_type": "markdown",
   "metadata": {},
   "source": [
    "Отобразим сводную статистику по численным признакам. "
   ]
  },
  {
   "cell_type": "code",
   "execution_count": 10,
   "metadata": {
    "execution": {
     "iopub.execute_input": "2024-11-18T15:50:26.394615Z",
     "iopub.status.busy": "2024-11-18T15:50:26.394133Z",
     "iopub.status.idle": "2024-11-18T15:50:26.408304Z",
     "shell.execute_reply": "2024-11-18T15:50:26.407119Z",
     "shell.execute_reply.started": "2024-11-18T15:50:26.394543Z"
    },
    "trusted": true
   },
   "outputs": [
    {
     "data": {
      "text/plain": [
       "Age                      0\n",
       "Academic Pressure     2054\n",
       "Work Pressure          502\n",
       "CGPA                  2054\n",
       "Study Satisfaction    2054\n",
       "Job Satisfaction       502\n",
       "Work/Study Hours         0\n",
       "Financial Stress         0\n",
       "dtype: int64"
      ]
     },
     "execution_count": 10,
     "metadata": {},
     "output_type": "execute_result"
    }
   ],
   "source": [
    "df[numerical_columns].isnull().sum()"
   ]
  },
  {
   "cell_type": "markdown",
   "metadata": {},
   "source": [
    "Наблюдаем большое количество данных с пропусками. Необходимо провести предобработку для них. Например, можно заполнить пропуски mean/median значениями."
   ]
  },
  {
   "cell_type": "code",
   "execution_count": 11,
   "metadata": {
    "execution": {
     "iopub.execute_input": "2024-11-18T15:50:26.411732Z",
     "iopub.status.busy": "2024-11-18T15:50:26.410315Z",
     "iopub.status.idle": "2024-11-18T15:50:26.456136Z",
     "shell.execute_reply": "2024-11-18T15:50:26.454826Z",
     "shell.execute_reply.started": "2024-11-18T15:50:26.411669Z"
    },
    "trusted": true
   },
   "outputs": [
    {
     "data": {
      "text/html": [
       "<div>\n",
       "<style scoped>\n",
       "    .dataframe tbody tr th:only-of-type {\n",
       "        vertical-align: middle;\n",
       "    }\n",
       "\n",
       "    .dataframe tbody tr th {\n",
       "        vertical-align: top;\n",
       "    }\n",
       "\n",
       "    .dataframe thead th {\n",
       "        text-align: right;\n",
       "    }\n",
       "</style>\n",
       "<table border=\"1\" class=\"dataframe\">\n",
       "  <thead>\n",
       "    <tr style=\"text-align: right;\">\n",
       "      <th></th>\n",
       "      <th>count</th>\n",
       "      <th>mean</th>\n",
       "      <th>std</th>\n",
       "      <th>min</th>\n",
       "      <th>25%</th>\n",
       "      <th>50%</th>\n",
       "      <th>75%</th>\n",
       "      <th>max</th>\n",
       "    </tr>\n",
       "  </thead>\n",
       "  <tbody>\n",
       "    <tr>\n",
       "      <th>Age</th>\n",
       "      <td>2556.0</td>\n",
       "      <td>39.043036</td>\n",
       "      <td>12.260596</td>\n",
       "      <td>18.00</td>\n",
       "      <td>28.00</td>\n",
       "      <td>39.000</td>\n",
       "      <td>50.000</td>\n",
       "      <td>60.0</td>\n",
       "    </tr>\n",
       "    <tr>\n",
       "      <th>Academic Pressure</th>\n",
       "      <td>502.0</td>\n",
       "      <td>3.003984</td>\n",
       "      <td>1.390007</td>\n",
       "      <td>1.00</td>\n",
       "      <td>2.00</td>\n",
       "      <td>3.000</td>\n",
       "      <td>4.000</td>\n",
       "      <td>5.0</td>\n",
       "    </tr>\n",
       "    <tr>\n",
       "      <th>Work Pressure</th>\n",
       "      <td>2054.0</td>\n",
       "      <td>3.021908</td>\n",
       "      <td>1.417312</td>\n",
       "      <td>1.00</td>\n",
       "      <td>2.00</td>\n",
       "      <td>3.000</td>\n",
       "      <td>4.000</td>\n",
       "      <td>5.0</td>\n",
       "    </tr>\n",
       "    <tr>\n",
       "      <th>CGPA</th>\n",
       "      <td>502.0</td>\n",
       "      <td>7.567809</td>\n",
       "      <td>1.465367</td>\n",
       "      <td>5.03</td>\n",
       "      <td>6.21</td>\n",
       "      <td>7.605</td>\n",
       "      <td>8.825</td>\n",
       "      <td>10.0</td>\n",
       "    </tr>\n",
       "    <tr>\n",
       "      <th>Study Satisfaction</th>\n",
       "      <td>502.0</td>\n",
       "      <td>3.075697</td>\n",
       "      <td>1.373490</td>\n",
       "      <td>1.00</td>\n",
       "      <td>2.00</td>\n",
       "      <td>3.000</td>\n",
       "      <td>4.000</td>\n",
       "      <td>5.0</td>\n",
       "    </tr>\n",
       "    <tr>\n",
       "      <th>Job Satisfaction</th>\n",
       "      <td>2054.0</td>\n",
       "      <td>3.015093</td>\n",
       "      <td>1.418432</td>\n",
       "      <td>1.00</td>\n",
       "      <td>2.00</td>\n",
       "      <td>3.000</td>\n",
       "      <td>4.000</td>\n",
       "      <td>5.0</td>\n",
       "    </tr>\n",
       "    <tr>\n",
       "      <th>Work/Study Hours</th>\n",
       "      <td>2556.0</td>\n",
       "      <td>6.023865</td>\n",
       "      <td>3.771743</td>\n",
       "      <td>0.00</td>\n",
       "      <td>3.00</td>\n",
       "      <td>6.000</td>\n",
       "      <td>9.000</td>\n",
       "      <td>12.0</td>\n",
       "    </tr>\n",
       "    <tr>\n",
       "      <th>Financial Stress</th>\n",
       "      <td>2556.0</td>\n",
       "      <td>2.968701</td>\n",
       "      <td>1.415527</td>\n",
       "      <td>1.00</td>\n",
       "      <td>2.00</td>\n",
       "      <td>3.000</td>\n",
       "      <td>4.000</td>\n",
       "      <td>5.0</td>\n",
       "    </tr>\n",
       "  </tbody>\n",
       "</table>\n",
       "</div>"
      ],
      "text/plain": [
       "                     count       mean        std    min    25%     50%  \\\n",
       "Age                 2556.0  39.043036  12.260596  18.00  28.00  39.000   \n",
       "Academic Pressure    502.0   3.003984   1.390007   1.00   2.00   3.000   \n",
       "Work Pressure       2054.0   3.021908   1.417312   1.00   2.00   3.000   \n",
       "CGPA                 502.0   7.567809   1.465367   5.03   6.21   7.605   \n",
       "Study Satisfaction   502.0   3.075697   1.373490   1.00   2.00   3.000   \n",
       "Job Satisfaction    2054.0   3.015093   1.418432   1.00   2.00   3.000   \n",
       "Work/Study Hours    2556.0   6.023865   3.771743   0.00   3.00   6.000   \n",
       "Financial Stress    2556.0   2.968701   1.415527   1.00   2.00   3.000   \n",
       "\n",
       "                       75%   max  \n",
       "Age                 50.000  60.0  \n",
       "Academic Pressure    4.000   5.0  \n",
       "Work Pressure        4.000   5.0  \n",
       "CGPA                 8.825  10.0  \n",
       "Study Satisfaction   4.000   5.0  \n",
       "Job Satisfaction     4.000   5.0  \n",
       "Work/Study Hours     9.000  12.0  \n",
       "Financial Stress     4.000   5.0  "
      ]
     },
     "execution_count": 11,
     "metadata": {},
     "output_type": "execute_result"
    }
   ],
   "source": [
    "df[numerical_columns].describe().T"
   ]
  },
  {
   "cell_type": "markdown",
   "metadata": {},
   "source": [
    "Можно произвести нормализацию данных. Например, подойдет и StandardScaler, однако можно воспользоваться и MinMaxScaler."
   ]
  },
  {
   "cell_type": "markdown",
   "metadata": {},
   "source": [
    "## Визуализация"
   ]
  },
  {
   "cell_type": "code",
   "execution_count": 12,
   "metadata": {
    "execution": {
     "iopub.execute_input": "2024-11-18T15:50:26.458616Z",
     "iopub.status.busy": "2024-11-18T15:50:26.457804Z",
     "iopub.status.idle": "2024-11-18T15:50:28.654174Z",
     "shell.execute_reply": "2024-11-18T15:50:28.652839Z",
     "shell.execute_reply.started": "2024-11-18T15:50:26.458549Z"
    },
    "trusted": true
   },
   "outputs": [
    {
     "data": {
      "text/html": [
       "<iframe\n",
       "    scrolling=\"no\"\n",
       "    width=\"100%\"\n",
       "    height=\"545px\"\n",
       "    src=\"iframe_figures/figure_12.html\"\n",
       "    frameborder=\"0\"\n",
       "    allowfullscreen\n",
       "></iframe>\n"
      ]
     },
     "metadata": {},
     "output_type": "display_data"
    }
   ],
   "source": [
    "target_counts = target_column.value_counts()\n",
    "fig = px.pie(values=target_counts, names=target_counts.index, title='Распределение риска депрессии')\n",
    "fig.show(renderer='iframe')"
   ]
  },
  {
   "cell_type": "code",
   "execution_count": 13,
   "metadata": {
    "execution": {
     "iopub.execute_input": "2024-11-18T15:50:28.657669Z",
     "iopub.status.busy": "2024-11-18T15:50:28.657136Z",
     "iopub.status.idle": "2024-11-18T15:50:28.766157Z",
     "shell.execute_reply": "2024-11-18T15:50:28.765050Z",
     "shell.execute_reply.started": "2024-11-18T15:50:28.657606Z"
    },
    "trusted": true
   },
   "outputs": [
    {
     "data": {
      "text/html": [
       "<iframe\n",
       "    scrolling=\"no\"\n",
       "    width=\"100%\"\n",
       "    height=\"545px\"\n",
       "    src=\"iframe_figures/figure_13.html\"\n",
       "    frameborder=\"0\"\n",
       "    allowfullscreen\n",
       "></iframe>\n"
      ]
     },
     "metadata": {},
     "output_type": "display_data"
    }
   ],
   "source": [
    "gender_counts = df[\"Gender\"].value_counts()\n",
    "fig = px.pie(values=gender_counts, names=gender_counts.index, title='Распределение по полу')\n",
    "fig.show(renderer='iframe')"
   ]
  },
  {
   "cell_type": "code",
   "execution_count": 14,
   "metadata": {
    "execution": {
     "iopub.execute_input": "2024-11-18T15:50:28.768160Z",
     "iopub.status.busy": "2024-11-18T15:50:28.767667Z",
     "iopub.status.idle": "2024-11-18T15:50:28.967634Z",
     "shell.execute_reply": "2024-11-18T15:50:28.966228Z",
     "shell.execute_reply.started": "2024-11-18T15:50:28.768105Z"
    },
    "trusted": true
   },
   "outputs": [
    {
     "data": {
      "text/html": [
       "<iframe\n",
       "    scrolling=\"no\"\n",
       "    width=\"100%\"\n",
       "    height=\"545px\"\n",
       "    src=\"iframe_figures/figure_14.html\"\n",
       "    frameborder=\"0\"\n",
       "    allowfullscreen\n",
       "></iframe>\n"
      ]
     },
     "metadata": {},
     "output_type": "display_data"
    }
   ],
   "source": [
    "fig = px.histogram(df, x='Gender', color='Depression', barmode='group', title='Распределение риска депрессии по полу')\n",
    "fig.show(renderer='iframe')"
   ]
  },
  {
   "cell_type": "code",
   "execution_count": 15,
   "metadata": {
    "execution": {
     "iopub.execute_input": "2024-11-18T15:50:28.969695Z",
     "iopub.status.busy": "2024-11-18T15:50:28.969275Z",
     "iopub.status.idle": "2024-11-18T15:50:29.090923Z",
     "shell.execute_reply": "2024-11-18T15:50:29.089771Z",
     "shell.execute_reply.started": "2024-11-18T15:50:28.969651Z"
    },
    "trusted": true
   },
   "outputs": [
    {
     "data": {
      "text/html": [
       "<iframe\n",
       "    scrolling=\"no\"\n",
       "    width=\"100%\"\n",
       "    height=\"545px\"\n",
       "    src=\"iframe_figures/figure_15.html\"\n",
       "    frameborder=\"0\"\n",
       "    allowfullscreen\n",
       "></iframe>\n"
      ]
     },
     "metadata": {},
     "output_type": "display_data"
    }
   ],
   "source": [
    "fig = px.histogram(df, x='Age', color='Depression', barmode='group', title='Распределение риска депрессии по возрасту')\n",
    "fig.show(renderer='iframe')"
   ]
  },
  {
   "cell_type": "code",
   "execution_count": 16,
   "metadata": {
    "execution": {
     "iopub.execute_input": "2024-11-18T15:50:29.092920Z",
     "iopub.status.busy": "2024-11-18T15:50:29.092483Z",
     "iopub.status.idle": "2024-11-18T15:50:29.221237Z",
     "shell.execute_reply": "2024-11-18T15:50:29.219887Z",
     "shell.execute_reply.started": "2024-11-18T15:50:29.092877Z"
    },
    "trusted": true
   },
   "outputs": [
    {
     "data": {
      "text/html": [
       "<iframe\n",
       "    scrolling=\"no\"\n",
       "    width=\"100%\"\n",
       "    height=\"545px\"\n",
       "    src=\"iframe_figures/figure_16.html\"\n",
       "    frameborder=\"0\"\n",
       "    allowfullscreen\n",
       "></iframe>\n"
      ]
     },
     "metadata": {},
     "output_type": "display_data"
    }
   ],
   "source": [
    "fig = px.histogram(df, x='City', color='Depression', barmode='group', title='Распределение риска депрессии по городу')\n",
    "fig.show(renderer='iframe')"
   ]
  },
  {
   "cell_type": "code",
   "execution_count": 17,
   "metadata": {
    "execution": {
     "iopub.execute_input": "2024-11-18T15:50:29.223268Z",
     "iopub.status.busy": "2024-11-18T15:50:29.222764Z",
     "iopub.status.idle": "2024-11-18T15:50:29.355266Z",
     "shell.execute_reply": "2024-11-18T15:50:29.354001Z",
     "shell.execute_reply.started": "2024-11-18T15:50:29.223220Z"
    },
    "trusted": true
   },
   "outputs": [
    {
     "data": {
      "text/html": [
       "<iframe\n",
       "    scrolling=\"no\"\n",
       "    width=\"100%\"\n",
       "    height=\"545px\"\n",
       "    src=\"iframe_figures/figure_17.html\"\n",
       "    frameborder=\"0\"\n",
       "    allowfullscreen\n",
       "></iframe>\n"
      ]
     },
     "metadata": {},
     "output_type": "display_data"
    }
   ],
   "source": [
    "fig = px.histogram(df, x='Working Professional or Student', color='Depression', barmode='group', title='Распределение риска депрессии по виду занятости')\n",
    "fig.show(renderer='iframe')"
   ]
  },
  {
   "cell_type": "code",
   "execution_count": 18,
   "metadata": {
    "execution": {
     "iopub.execute_input": "2024-11-18T15:50:29.357764Z",
     "iopub.status.busy": "2024-11-18T15:50:29.356859Z",
     "iopub.status.idle": "2024-11-18T15:50:29.548805Z",
     "shell.execute_reply": "2024-11-18T15:50:29.547629Z",
     "shell.execute_reply.started": "2024-11-18T15:50:29.357709Z"
    },
    "trusted": true
   },
   "outputs": [
    {
     "data": {
      "text/html": [
       "<iframe\n",
       "    scrolling=\"no\"\n",
       "    width=\"100%\"\n",
       "    height=\"545px\"\n",
       "    src=\"iframe_figures/figure_18.html\"\n",
       "    frameborder=\"0\"\n",
       "    allowfullscreen\n",
       "></iframe>\n"
      ]
     },
     "metadata": {},
     "output_type": "display_data"
    }
   ],
   "source": [
    "fig = px.histogram(df, x='Profession', color='Depression', barmode='group', title='Распределение риска депрессии по профессии')\n",
    "fig.show(renderer='iframe')"
   ]
  },
  {
   "cell_type": "code",
   "execution_count": 19,
   "metadata": {
    "execution": {
     "iopub.execute_input": "2024-11-18T15:50:29.551295Z",
     "iopub.status.busy": "2024-11-18T15:50:29.550289Z",
     "iopub.status.idle": "2024-11-18T15:50:29.696492Z",
     "shell.execute_reply": "2024-11-18T15:50:29.695057Z",
     "shell.execute_reply.started": "2024-11-18T15:50:29.551250Z"
    },
    "trusted": true
   },
   "outputs": [
    {
     "data": {
      "text/html": [
       "<iframe\n",
       "    scrolling=\"no\"\n",
       "    width=\"100%\"\n",
       "    height=\"545px\"\n",
       "    src=\"iframe_figures/figure_19.html\"\n",
       "    frameborder=\"0\"\n",
       "    allowfullscreen\n",
       "></iframe>\n"
      ]
     },
     "metadata": {},
     "output_type": "display_data"
    }
   ],
   "source": [
    "fig = px.histogram(df, x='Academic Pressure', color='Depression', barmode='group', title='Распределение риска депрессии по академической загруженности')\n",
    "fig.show(renderer='iframe')"
   ]
  },
  {
   "cell_type": "code",
   "execution_count": 20,
   "metadata": {
    "execution": {
     "iopub.execute_input": "2024-11-18T15:50:29.698442Z",
     "iopub.status.busy": "2024-11-18T15:50:29.697936Z",
     "iopub.status.idle": "2024-11-18T15:50:29.821757Z",
     "shell.execute_reply": "2024-11-18T15:50:29.820395Z",
     "shell.execute_reply.started": "2024-11-18T15:50:29.698386Z"
    },
    "trusted": true
   },
   "outputs": [
    {
     "data": {
      "text/html": [
       "<iframe\n",
       "    scrolling=\"no\"\n",
       "    width=\"100%\"\n",
       "    height=\"545px\"\n",
       "    src=\"iframe_figures/figure_20.html\"\n",
       "    frameborder=\"0\"\n",
       "    allowfullscreen\n",
       "></iframe>\n"
      ]
     },
     "metadata": {},
     "output_type": "display_data"
    }
   ],
   "source": [
    "fig = px.histogram(df, x='Work Pressure', color='Depression', barmode='group', title='Распределение риска депрессии по рабочей загруженности')\n",
    "fig.show(renderer='iframe')"
   ]
  },
  {
   "cell_type": "code",
   "execution_count": 21,
   "metadata": {
    "execution": {
     "iopub.execute_input": "2024-11-18T15:50:29.823999Z",
     "iopub.status.busy": "2024-11-18T15:50:29.823461Z",
     "iopub.status.idle": "2024-11-18T15:50:29.950367Z",
     "shell.execute_reply": "2024-11-18T15:50:29.949123Z",
     "shell.execute_reply.started": "2024-11-18T15:50:29.823918Z"
    },
    "trusted": true
   },
   "outputs": [
    {
     "data": {
      "text/html": [
       "<iframe\n",
       "    scrolling=\"no\"\n",
       "    width=\"100%\"\n",
       "    height=\"545px\"\n",
       "    src=\"iframe_figures/figure_21.html\"\n",
       "    frameborder=\"0\"\n",
       "    allowfullscreen\n",
       "></iframe>\n"
      ]
     },
     "metadata": {},
     "output_type": "display_data"
    }
   ],
   "source": [
    "fig = px.histogram(df, x='CGPA', color='Depression', barmode='group', title='Распределение риска депрессии по оценкам')\n",
    "fig.show(renderer='iframe')"
   ]
  },
  {
   "cell_type": "code",
   "execution_count": 22,
   "metadata": {
    "execution": {
     "iopub.execute_input": "2024-11-18T15:50:29.952825Z",
     "iopub.status.busy": "2024-11-18T15:50:29.952330Z",
     "iopub.status.idle": "2024-11-18T15:50:30.077396Z",
     "shell.execute_reply": "2024-11-18T15:50:30.075906Z",
     "shell.execute_reply.started": "2024-11-18T15:50:29.952771Z"
    },
    "trusted": true
   },
   "outputs": [
    {
     "data": {
      "text/html": [
       "<iframe\n",
       "    scrolling=\"no\"\n",
       "    width=\"100%\"\n",
       "    height=\"545px\"\n",
       "    src=\"iframe_figures/figure_22.html\"\n",
       "    frameborder=\"0\"\n",
       "    allowfullscreen\n",
       "></iframe>\n"
      ]
     },
     "metadata": {},
     "output_type": "display_data"
    }
   ],
   "source": [
    "fig = px.histogram(df, x='Study Satisfaction', color='Depression', barmode='group', title='Распределение риска депрессии по удовлетворенности в учебе')\n",
    "fig.show(renderer='iframe')"
   ]
  },
  {
   "cell_type": "code",
   "execution_count": 23,
   "metadata": {
    "execution": {
     "iopub.execute_input": "2024-11-18T15:50:30.079676Z",
     "iopub.status.busy": "2024-11-18T15:50:30.079176Z",
     "iopub.status.idle": "2024-11-18T15:50:30.207888Z",
     "shell.execute_reply": "2024-11-18T15:50:30.206455Z",
     "shell.execute_reply.started": "2024-11-18T15:50:30.079621Z"
    },
    "trusted": true
   },
   "outputs": [
    {
     "data": {
      "text/html": [
       "<iframe\n",
       "    scrolling=\"no\"\n",
       "    width=\"100%\"\n",
       "    height=\"545px\"\n",
       "    src=\"iframe_figures/figure_23.html\"\n",
       "    frameborder=\"0\"\n",
       "    allowfullscreen\n",
       "></iframe>\n"
      ]
     },
     "metadata": {},
     "output_type": "display_data"
    }
   ],
   "source": [
    "fig = px.histogram(df, x='Job Satisfaction', color='Depression', barmode='group', title='Распределение риска депрессии по удовлетворенности в работе')\n",
    "fig.show(renderer='iframe')"
   ]
  },
  {
   "cell_type": "code",
   "execution_count": 24,
   "metadata": {
    "execution": {
     "iopub.execute_input": "2024-11-18T15:50:30.210595Z",
     "iopub.status.busy": "2024-11-18T15:50:30.209820Z",
     "iopub.status.idle": "2024-11-18T15:50:30.340337Z",
     "shell.execute_reply": "2024-11-18T15:50:30.339143Z",
     "shell.execute_reply.started": "2024-11-18T15:50:30.210532Z"
    },
    "trusted": true
   },
   "outputs": [
    {
     "data": {
      "text/html": [
       "<iframe\n",
       "    scrolling=\"no\"\n",
       "    width=\"100%\"\n",
       "    height=\"545px\"\n",
       "    src=\"iframe_figures/figure_24.html\"\n",
       "    frameborder=\"0\"\n",
       "    allowfullscreen\n",
       "></iframe>\n"
      ]
     },
     "metadata": {},
     "output_type": "display_data"
    }
   ],
   "source": [
    "fig = px.histogram(df, x='Sleep Duration', color='Depression', barmode='group', title='Распределение риска депрессии по часам сна')\n",
    "fig.show(renderer='iframe')"
   ]
  },
  {
   "cell_type": "code",
   "execution_count": 25,
   "metadata": {
    "execution": {
     "iopub.execute_input": "2024-11-18T15:50:30.342281Z",
     "iopub.status.busy": "2024-11-18T15:50:30.341853Z",
     "iopub.status.idle": "2024-11-18T15:50:30.495400Z",
     "shell.execute_reply": "2024-11-18T15:50:30.494049Z",
     "shell.execute_reply.started": "2024-11-18T15:50:30.342241Z"
    },
    "trusted": true
   },
   "outputs": [
    {
     "data": {
      "text/html": [
       "<iframe\n",
       "    scrolling=\"no\"\n",
       "    width=\"100%\"\n",
       "    height=\"545px\"\n",
       "    src=\"iframe_figures/figure_25.html\"\n",
       "    frameborder=\"0\"\n",
       "    allowfullscreen\n",
       "></iframe>\n"
      ]
     },
     "metadata": {},
     "output_type": "display_data"
    }
   ],
   "source": [
    "fig = px.histogram(df, x='Dietary Habits', color='Depression', barmode='group', title='Распределение риска депрессии по диете')\n",
    "fig.show(renderer='iframe')"
   ]
  },
  {
   "cell_type": "code",
   "execution_count": 26,
   "metadata": {
    "execution": {
     "iopub.execute_input": "2024-11-18T15:50:30.498166Z",
     "iopub.status.busy": "2024-11-18T15:50:30.497348Z",
     "iopub.status.idle": "2024-11-18T15:50:30.633152Z",
     "shell.execute_reply": "2024-11-18T15:50:30.631674Z",
     "shell.execute_reply.started": "2024-11-18T15:50:30.498122Z"
    },
    "trusted": true
   },
   "outputs": [
    {
     "data": {
      "text/html": [
       "<iframe\n",
       "    scrolling=\"no\"\n",
       "    width=\"100%\"\n",
       "    height=\"545px\"\n",
       "    src=\"iframe_figures/figure_26.html\"\n",
       "    frameborder=\"0\"\n",
       "    allowfullscreen\n",
       "></iframe>\n"
      ]
     },
     "metadata": {},
     "output_type": "display_data"
    }
   ],
   "source": [
    "fig = px.histogram(df, x='Degree', color='Depression', barmode='group', title='Распределение риска депрессии по уровню образования')\n",
    "fig.show(renderer='iframe')"
   ]
  },
  {
   "cell_type": "code",
   "execution_count": 27,
   "metadata": {
    "execution": {
     "iopub.execute_input": "2024-11-18T15:50:30.635331Z",
     "iopub.status.busy": "2024-11-18T15:50:30.634848Z",
     "iopub.status.idle": "2024-11-18T15:50:30.777010Z",
     "shell.execute_reply": "2024-11-18T15:50:30.775640Z",
     "shell.execute_reply.started": "2024-11-18T15:50:30.635279Z"
    },
    "trusted": true
   },
   "outputs": [
    {
     "data": {
      "text/html": [
       "<iframe\n",
       "    scrolling=\"no\"\n",
       "    width=\"100%\"\n",
       "    height=\"545px\"\n",
       "    src=\"iframe_figures/figure_27.html\"\n",
       "    frameborder=\"0\"\n",
       "    allowfullscreen\n",
       "></iframe>\n"
      ]
     },
     "metadata": {},
     "output_type": "display_data"
    }
   ],
   "source": [
    "fig = px.histogram(df, x='Have you ever had suicidal thoughts ?', color='Depression', barmode='group', title='Распределение риска депрессии по суицидальным мыслям')\n",
    "fig.show(renderer='iframe')"
   ]
  },
  {
   "cell_type": "code",
   "execution_count": 28,
   "metadata": {
    "execution": {
     "iopub.execute_input": "2024-11-18T15:50:30.784124Z",
     "iopub.status.busy": "2024-11-18T15:50:30.783656Z",
     "iopub.status.idle": "2024-11-18T15:50:30.919741Z",
     "shell.execute_reply": "2024-11-18T15:50:30.918521Z",
     "shell.execute_reply.started": "2024-11-18T15:50:30.784066Z"
    },
    "trusted": true
   },
   "outputs": [
    {
     "data": {
      "text/html": [
       "<iframe\n",
       "    scrolling=\"no\"\n",
       "    width=\"100%\"\n",
       "    height=\"545px\"\n",
       "    src=\"iframe_figures/figure_28.html\"\n",
       "    frameborder=\"0\"\n",
       "    allowfullscreen\n",
       "></iframe>\n"
      ]
     },
     "metadata": {},
     "output_type": "display_data"
    }
   ],
   "source": [
    "fig = px.histogram(df, x='Family History of Mental Illness', color='Depression', barmode='group', title='Распределение риска депрессии по наследственным заболеваниям')\n",
    "fig.show(renderer='iframe')"
   ]
  },
  {
   "cell_type": "code",
   "execution_count": 29,
   "metadata": {
    "execution": {
     "iopub.execute_input": "2024-11-18T15:50:30.922042Z",
     "iopub.status.busy": "2024-11-18T15:50:30.921597Z",
     "iopub.status.idle": "2024-11-18T15:50:31.054752Z",
     "shell.execute_reply": "2024-11-18T15:50:31.053398Z",
     "shell.execute_reply.started": "2024-11-18T15:50:30.921980Z"
    },
    "trusted": true
   },
   "outputs": [
    {
     "data": {
      "text/html": [
       "<iframe\n",
       "    scrolling=\"no\"\n",
       "    width=\"100%\"\n",
       "    height=\"545px\"\n",
       "    src=\"iframe_figures/figure_29.html\"\n",
       "    frameborder=\"0\"\n",
       "    allowfullscreen\n",
       "></iframe>\n"
      ]
     },
     "metadata": {},
     "output_type": "display_data"
    }
   ],
   "source": [
    "correlation_matrix = df.corr(numeric_only=True)\n",
    "fig = px.imshow(correlation_matrix, \n",
    "                text_auto=True,\n",
    "                color_continuous_scale='RdYlBu',\n",
    "                title='Тепловая карта',\n",
    "                aspect='auto')\n",
    "fig.show(renderer='iframe')"
   ]
  },
  {
   "cell_type": "markdown",
   "metadata": {},
   "source": [
    "Много низкокореллированных признаков. Пока сложно понять, хорошо это или плохо."
   ]
  },
  {
   "cell_type": "markdown",
   "metadata": {},
   "source": [
    "# 3. Построить и оценить качество бейзлайна"
   ]
  },
  {
   "cell_type": "markdown",
   "metadata": {},
   "source": [
    "## Предобработка данных"
   ]
  },
  {
   "cell_type": "markdown",
   "metadata": {},
   "source": [
    "Переименовываем столбцы и избавляемся от пробелов для простоты работы."
   ]
  },
  {
   "cell_type": "code",
   "execution_count": 30,
   "metadata": {
    "execution": {
     "iopub.execute_input": "2024-11-18T15:50:31.056787Z",
     "iopub.status.busy": "2024-11-18T15:50:31.056296Z",
     "iopub.status.idle": "2024-11-18T15:50:31.066044Z",
     "shell.execute_reply": "2024-11-18T15:50:31.064731Z",
     "shell.execute_reply.started": "2024-11-18T15:50:31.056743Z"
    },
    "trusted": true
   },
   "outputs": [
    {
     "data": {
      "text/plain": [
       "Index(['Name', 'Gender', 'Age', 'City', 'Working_Professional_or_Student',\n",
       "       'Profession', 'Academic_Pressure', 'Work_Pressure', 'CGPA',\n",
       "       'Study_Satisfaction', 'Job_Satisfaction', 'Sleep_Duration',\n",
       "       'Dietary_Habits', 'Degree', 'Have_you_ever_had_suicidal_thoughts_?',\n",
       "       'Work/Study_Hours', 'Financial_Stress',\n",
       "       'Family_History_of_Mental_Illness', 'Depression'],\n",
       "      dtype='object')"
      ]
     },
     "execution_count": 30,
     "metadata": {},
     "output_type": "execute_result"
    }
   ],
   "source": [
    "df.columns = [col.replace(' ', '_') for col in df.columns]\n",
    "df.columns"
   ]
  },
  {
   "cell_type": "markdown",
   "metadata": {},
   "source": [
    "Удаляем признак имени т.к. предполагаем, что риск депрессии не зависит от имени."
   ]
  },
  {
   "cell_type": "code",
   "execution_count": 31,
   "metadata": {},
   "outputs": [],
   "source": [
    "df.drop('Name', axis=1, inplace=True)"
   ]
  },
  {
   "cell_type": "code",
   "execution_count": 32,
   "metadata": {},
   "outputs": [],
   "source": [
    "X = df.drop(\"Depression\", axis=1)\n",
    "y = df[\"Depression\"]\n",
    "X_train, X_test, y_train, y_test = train_test_split(\n",
    "    X, y, test_size=0.2, random_state=2024\n",
    ")"
   ]
  },
  {
   "cell_type": "markdown",
   "metadata": {},
   "source": [
    "Заполняем пропуски в полезных признаков нулями."
   ]
  },
  {
   "cell_type": "code",
   "execution_count": 33,
   "metadata": {},
   "outputs": [
    {
     "data": {
      "text/plain": [
       "Gender                                      0\n",
       "Age                                         0\n",
       "City                                        0\n",
       "Working_Professional_or_Student             0\n",
       "Profession                                553\n",
       "Academic_Pressure                        1624\n",
       "Work_Pressure                             420\n",
       "CGPA                                     1624\n",
       "Study_Satisfaction                       1624\n",
       "Job_Satisfaction                          420\n",
       "Sleep_Duration                              0\n",
       "Dietary_Habits                              0\n",
       "Degree                                      0\n",
       "Have_you_ever_had_suicidal_thoughts_?       0\n",
       "Work/Study_Hours                            0\n",
       "Financial_Stress                            0\n",
       "Family_History_of_Mental_Illness            0\n",
       "dtype: int64"
      ]
     },
     "execution_count": 33,
     "metadata": {},
     "output_type": "execute_result"
    }
   ],
   "source": [
    "X_train.isna().sum()"
   ]
  },
  {
   "cell_type": "code",
   "execution_count": 34,
   "metadata": {
    "execution": {
     "iopub.execute_input": "2024-11-18T15:56:34.643064Z",
     "iopub.status.busy": "2024-11-18T15:56:34.642590Z",
     "iopub.status.idle": "2024-11-18T15:56:34.651528Z",
     "shell.execute_reply": "2024-11-18T15:56:34.650303Z",
     "shell.execute_reply.started": "2024-11-18T15:56:34.643020Z"
    },
    "trusted": true
   },
   "outputs": [],
   "source": [
    "X_train.fillna({'Profession': 'Unknown'}, inplace=True)\n",
    "X_test.fillna({'Profession': 'Unknown'}, inplace=True)"
   ]
  },
  {
   "cell_type": "code",
   "execution_count": 35,
   "metadata": {
    "execution": {
     "iopub.execute_input": "2024-11-18T16:00:39.372361Z",
     "iopub.status.busy": "2024-11-18T16:00:39.371761Z",
     "iopub.status.idle": "2024-11-18T16:00:39.385403Z",
     "shell.execute_reply": "2024-11-18T16:00:39.383686Z",
     "shell.execute_reply.started": "2024-11-18T16:00:39.372299Z"
    },
    "trusted": true
   },
   "outputs": [],
   "source": [
    "X_train.fillna({'Academic_Pressure': 0, 'Work_Pressure': 0, 'CGPA': 0, 'Study_Satisfaction': 0, 'Job_Satisfaction': 0}, inplace=True)\n",
    "X_test.fillna({'Academic_Pressure': 0, 'Work_Pressure': 0, 'CGPA': 0, 'Study_Satisfaction': 0, 'Job_Satisfaction': 0}, inplace=True)"
   ]
  },
  {
   "cell_type": "code",
   "execution_count": 36,
   "metadata": {},
   "outputs": [
    {
     "data": {
      "text/plain": [
       "Gender                                   0\n",
       "Age                                      0\n",
       "City                                     0\n",
       "Working_Professional_or_Student          0\n",
       "Profession                               0\n",
       "Academic_Pressure                        0\n",
       "Work_Pressure                            0\n",
       "CGPA                                     0\n",
       "Study_Satisfaction                       0\n",
       "Job_Satisfaction                         0\n",
       "Sleep_Duration                           0\n",
       "Dietary_Habits                           0\n",
       "Degree                                   0\n",
       "Have_you_ever_had_suicidal_thoughts_?    0\n",
       "Work/Study_Hours                         0\n",
       "Financial_Stress                         0\n",
       "Family_History_of_Mental_Illness         0\n",
       "dtype: int64"
      ]
     },
     "execution_count": 36,
     "metadata": {},
     "output_type": "execute_result"
    }
   ],
   "source": [
    "X_train.isna().sum()"
   ]
  },
  {
   "cell_type": "markdown",
   "metadata": {},
   "source": [
    "Переводим категориальные признаки в порядковые и бинарные."
   ]
  },
  {
   "cell_type": "code",
   "execution_count": 37,
   "metadata": {},
   "outputs": [],
   "source": [
    "ord_enc = OrdinalEncoder()\n",
    "\n",
    "X_train[\"Sleep_Duration\"] = ord_enc.fit_transform(\n",
    "    X_train[\"Sleep_Duration\"].values.reshape(-1, 1)\n",
    ")\n",
    "X_test[\"Sleep_Duration\"] = ord_enc.transform(\n",
    "    X_test[\"Sleep_Duration\"].values.reshape(-1, 1)\n",
    ")\n",
    "\n",
    "X_train[\"Dietary_Habits\"] = ord_enc.fit_transform(\n",
    "    X_train[\"Dietary_Habits\"].values.reshape(-1, 1)\n",
    ")\n",
    "X_test[\"Dietary_Habits\"] = ord_enc.transform(\n",
    "    X_test[\"Dietary_Habits\"].values.reshape(-1, 1)\n",
    ")"
   ]
  },
  {
   "cell_type": "code",
   "execution_count": 38,
   "metadata": {},
   "outputs": [],
   "source": [
    "binary_columns = [\"Gender\",\"Working_Professional_or_Student\", \"Have_you_ever_had_suicidal_thoughts_?\", \"Family_History_of_Mental_Illness\"]\n",
    "\n",
    "bin_enc = BinaryEncoder(cols=binary_columns)\n",
    "\n",
    "X_train = bin_enc.fit_transform(X_train)\n",
    "X_test = bin_enc.transform(X_test)"
   ]
  },
  {
   "cell_type": "markdown",
   "metadata": {},
   "source": [
    "Кодируем целевую переменную при помощи LabelEncoder."
   ]
  },
  {
   "cell_type": "code",
   "execution_count": 39,
   "metadata": {},
   "outputs": [],
   "source": [
    "label_enc = LabelEncoder()\n",
    "\n",
    "y_train = pd.Series(label_enc.fit_transform(y_train))\n",
    "y_test = pd.Series(label_enc.transform(y_test))"
   ]
  },
  {
   "cell_type": "markdown",
   "metadata": {},
   "source": [
    "Выполняем кодирование категориальных признаков с привязкой целевой переменной т.к. предполагаем, что они влияют на уровень депрессии."
   ]
  },
  {
   "cell_type": "code",
   "execution_count": 40,
   "metadata": {
    "execution": {
     "iopub.execute_input": "2024-11-18T16:18:16.854246Z",
     "iopub.status.busy": "2024-11-18T16:18:16.853219Z",
     "iopub.status.idle": "2024-11-18T16:18:16.912129Z",
     "shell.execute_reply": "2024-11-18T16:18:16.910790Z",
     "shell.execute_reply.started": "2024-11-18T16:18:16.854020Z"
    },
    "trusted": true
   },
   "outputs": [],
   "source": [
    "target_encode_columns = ['Profession', 'Degree', 'City']\n",
    "\n",
    "target_encoder = TargetEncoder(cols=target_encode_columns)\n",
    "\n",
    "X_train[target_encode_columns] = target_encoder.fit_transform(X_train[target_encode_columns], y_train.values)\n",
    "X_test[target_encode_columns] = target_encoder.transform(X_test[target_encode_columns])"
   ]
  },
  {
   "cell_type": "markdown",
   "metadata": {},
   "source": [
    "Смотрим на полученные результаты предобработки данных."
   ]
  },
  {
   "cell_type": "code",
   "execution_count": 41,
   "metadata": {
    "execution": {
     "iopub.execute_input": "2024-11-18T16:19:14.553376Z",
     "iopub.status.busy": "2024-11-18T16:19:14.552913Z",
     "iopub.status.idle": "2024-11-18T16:19:14.562716Z",
     "shell.execute_reply": "2024-11-18T16:19:14.561213Z",
     "shell.execute_reply.started": "2024-11-18T16:19:14.553334Z"
    },
    "trusted": true
   },
   "outputs": [
    {
     "name": "stdout",
     "output_type": "stream",
     "text": [
      "Gender_0                                     int64\n",
      "Gender_1                                     int64\n",
      "Age                                          int64\n",
      "City                                       float64\n",
      "Working_Professional_or_Student_0            int64\n",
      "Working_Professional_or_Student_1            int64\n",
      "Profession                                 float64\n",
      "Academic_Pressure                          float64\n",
      "Work_Pressure                              float64\n",
      "CGPA                                       float64\n",
      "Study_Satisfaction                         float64\n",
      "Job_Satisfaction                           float64\n",
      "Sleep_Duration                             float64\n",
      "Dietary_Habits                             float64\n",
      "Degree                                     float64\n",
      "Have_you_ever_had_suicidal_thoughts_?_0      int64\n",
      "Have_you_ever_had_suicidal_thoughts_?_1      int64\n",
      "Work/Study_Hours                             int64\n",
      "Financial_Stress                             int64\n",
      "Family_History_of_Mental_Illness_0           int64\n",
      "Family_History_of_Mental_Illness_1           int64\n",
      "dtype: object \n",
      "\n",
      " Gender_0                                     int64\n",
      "Gender_1                                     int64\n",
      "Age                                          int64\n",
      "City                                       float64\n",
      "Working_Professional_or_Student_0            int64\n",
      "Working_Professional_or_Student_1            int64\n",
      "Profession                                 float64\n",
      "Academic_Pressure                          float64\n",
      "Work_Pressure                              float64\n",
      "CGPA                                       float64\n",
      "Study_Satisfaction                         float64\n",
      "Job_Satisfaction                           float64\n",
      "Sleep_Duration                             float64\n",
      "Dietary_Habits                             float64\n",
      "Degree                                     float64\n",
      "Have_you_ever_had_suicidal_thoughts_?_0      int64\n",
      "Have_you_ever_had_suicidal_thoughts_?_1      int64\n",
      "Work/Study_Hours                             int64\n",
      "Financial_Stress                             int64\n",
      "Family_History_of_Mental_Illness_0           int64\n",
      "Family_History_of_Mental_Illness_1           int64\n",
      "dtype: object\n"
     ]
    }
   ],
   "source": [
    "print(X_train.dtypes, \"\\n\\n\", X_test.dtypes)"
   ]
  },
  {
   "cell_type": "code",
   "execution_count": 42,
   "metadata": {
    "execution": {
     "iopub.execute_input": "2024-11-18T16:19:38.155577Z",
     "iopub.status.busy": "2024-11-18T16:19:38.155109Z",
     "iopub.status.idle": "2024-11-18T16:19:38.169244Z",
     "shell.execute_reply": "2024-11-18T16:19:38.167292Z",
     "shell.execute_reply.started": "2024-11-18T16:19:38.155532Z"
    },
    "trusted": true
   },
   "outputs": [
    {
     "name": "stdout",
     "output_type": "stream",
     "text": [
      "Gender_0                                   0\n",
      "Gender_1                                   0\n",
      "Age                                        0\n",
      "City                                       0\n",
      "Working_Professional_or_Student_0          0\n",
      "Working_Professional_or_Student_1          0\n",
      "Profession                                 0\n",
      "Academic_Pressure                          0\n",
      "Work_Pressure                              0\n",
      "CGPA                                       0\n",
      "Study_Satisfaction                         0\n",
      "Job_Satisfaction                           0\n",
      "Sleep_Duration                             0\n",
      "Dietary_Habits                             0\n",
      "Degree                                     0\n",
      "Have_you_ever_had_suicidal_thoughts_?_0    0\n",
      "Have_you_ever_had_suicidal_thoughts_?_1    0\n",
      "Work/Study_Hours                           0\n",
      "Financial_Stress                           0\n",
      "Family_History_of_Mental_Illness_0         0\n",
      "Family_History_of_Mental_Illness_1         0\n",
      "dtype: int64 \n",
      "\n",
      " Gender_0                                   0\n",
      "Gender_1                                   0\n",
      "Age                                        0\n",
      "City                                       0\n",
      "Working_Professional_or_Student_0          0\n",
      "Working_Professional_or_Student_1          0\n",
      "Profession                                 0\n",
      "Academic_Pressure                          0\n",
      "Work_Pressure                              0\n",
      "CGPA                                       0\n",
      "Study_Satisfaction                         0\n",
      "Job_Satisfaction                           0\n",
      "Sleep_Duration                             0\n",
      "Dietary_Habits                             0\n",
      "Degree                                     0\n",
      "Have_you_ever_had_suicidal_thoughts_?_0    0\n",
      "Have_you_ever_had_suicidal_thoughts_?_1    0\n",
      "Work/Study_Hours                           0\n",
      "Financial_Stress                           0\n",
      "Family_History_of_Mental_Illness_0         0\n",
      "Family_History_of_Mental_Illness_1         0\n",
      "dtype: int64\n"
     ]
    }
   ],
   "source": [
    "print(X_train.isnull().sum(), \"\\n\\n\", X_test.isnull().sum())"
   ]
  },
  {
   "cell_type": "markdown",
   "metadata": {},
   "source": [
    "## Константный предиктор"
   ]
  },
  {
   "cell_type": "markdown",
   "metadata": {},
   "source": [
    "Составим константный предиктор по самому частому классу."
   ]
  },
  {
   "cell_type": "code",
   "execution_count": 43,
   "metadata": {
    "execution": {
     "iopub.execute_input": "2024-11-18T16:24:53.195689Z",
     "iopub.status.busy": "2024-11-18T16:24:53.195216Z",
     "iopub.status.idle": "2024-11-18T16:24:53.204024Z",
     "shell.execute_reply": "2024-11-18T16:24:53.202517Z",
     "shell.execute_reply.started": "2024-11-18T16:24:53.195645Z"
    },
    "trusted": true
   },
   "outputs": [],
   "source": [
    "most_frequent_class = y_train.mode()[0]"
   ]
  },
  {
   "cell_type": "code",
   "execution_count": 44,
   "metadata": {
    "execution": {
     "iopub.execute_input": "2024-11-18T16:24:56.036951Z",
     "iopub.status.busy": "2024-11-18T16:24:56.036536Z",
     "iopub.status.idle": "2024-11-18T16:24:56.042476Z",
     "shell.execute_reply": "2024-11-18T16:24:56.041253Z",
     "shell.execute_reply.started": "2024-11-18T16:24:56.036912Z"
    },
    "trusted": true
   },
   "outputs": [],
   "source": [
    "y_pred_constant = np.full_like(y_test, fill_value=most_frequent_class)"
   ]
  },
  {
   "cell_type": "code",
   "execution_count": 45,
   "metadata": {
    "execution": {
     "iopub.execute_input": "2024-11-18T16:26:20.460541Z",
     "iopub.status.busy": "2024-11-18T16:26:20.460019Z",
     "iopub.status.idle": "2024-11-18T16:26:20.475408Z",
     "shell.execute_reply": "2024-11-18T16:26:20.474099Z",
     "shell.execute_reply.started": "2024-11-18T16:26:20.460484Z"
    },
    "trusted": true
   },
   "outputs": [
    {
     "data": {
      "text/plain": [
       "0.0"
      ]
     },
     "execution_count": 45,
     "metadata": {},
     "output_type": "execute_result"
    }
   ],
   "source": [
    "f1_score(y_test, y_pred_constant)"
   ]
  },
  {
   "cell_type": "markdown",
   "metadata": {},
   "source": [
    "Учитывая дисбаланс в наборе данных, постоянный предиктор предсказывает класс большинства \"No\" для всех случаев, что приводит к F1-Score, равному 0, для класса \"Yes\"."
   ]
  },
  {
   "cell_type": "markdown",
   "metadata": {},
   "source": [
    "## Базовая модель"
   ]
  },
  {
   "cell_type": "markdown",
   "metadata": {},
   "source": [
    "В качестве базовой модели построим логистическую регрессию.  \n",
    "Для линейной модели необходимо произвести нормализацию данных."
   ]
  },
  {
   "cell_type": "code",
   "execution_count": 46,
   "metadata": {
    "execution": {
     "iopub.execute_input": "2024-11-18T16:38:17.067263Z",
     "iopub.status.busy": "2024-11-18T16:38:17.066767Z",
     "iopub.status.idle": "2024-11-18T16:38:17.083265Z",
     "shell.execute_reply": "2024-11-18T16:38:17.081909Z",
     "shell.execute_reply.started": "2024-11-18T16:38:17.067218Z"
    },
    "trusted": true
   },
   "outputs": [],
   "source": [
    "scaler = StandardScaler()\n",
    "\n",
    "X_train = scaler.fit_transform(X_train)\n",
    "X_test = scaler.transform(X_test)"
   ]
  },
  {
   "cell_type": "markdown",
   "metadata": {},
   "source": [
    "В логистическую регрессию установим параметр class_weight в 'balanced' для правильной работы с несбалансированными классами."
   ]
  },
  {
   "cell_type": "code",
   "execution_count": 47,
   "metadata": {
    "execution": {
     "iopub.execute_input": "2024-11-18T16:38:19.787759Z",
     "iopub.status.busy": "2024-11-18T16:38:19.787282Z",
     "iopub.status.idle": "2024-11-18T16:38:19.824245Z",
     "shell.execute_reply": "2024-11-18T16:38:19.822959Z",
     "shell.execute_reply.started": "2024-11-18T16:38:19.787712Z"
    },
    "trusted": true
   },
   "outputs": [
    {
     "data": {
      "text/html": [
       "<style>#sk-container-id-1 {color: black;background-color: white;}#sk-container-id-1 pre{padding: 0;}#sk-container-id-1 div.sk-toggleable {background-color: white;}#sk-container-id-1 label.sk-toggleable__label {cursor: pointer;display: block;width: 100%;margin-bottom: 0;padding: 0.3em;box-sizing: border-box;text-align: center;}#sk-container-id-1 label.sk-toggleable__label-arrow:before {content: \"▸\";float: left;margin-right: 0.25em;color: #696969;}#sk-container-id-1 label.sk-toggleable__label-arrow:hover:before {color: black;}#sk-container-id-1 div.sk-estimator:hover label.sk-toggleable__label-arrow:before {color: black;}#sk-container-id-1 div.sk-toggleable__content {max-height: 0;max-width: 0;overflow: hidden;text-align: left;background-color: #f0f8ff;}#sk-container-id-1 div.sk-toggleable__content pre {margin: 0.2em;color: black;border-radius: 0.25em;background-color: #f0f8ff;}#sk-container-id-1 input.sk-toggleable__control:checked~div.sk-toggleable__content {max-height: 200px;max-width: 100%;overflow: auto;}#sk-container-id-1 input.sk-toggleable__control:checked~label.sk-toggleable__label-arrow:before {content: \"▾\";}#sk-container-id-1 div.sk-estimator input.sk-toggleable__control:checked~label.sk-toggleable__label {background-color: #d4ebff;}#sk-container-id-1 div.sk-label input.sk-toggleable__control:checked~label.sk-toggleable__label {background-color: #d4ebff;}#sk-container-id-1 input.sk-hidden--visually {border: 0;clip: rect(1px 1px 1px 1px);clip: rect(1px, 1px, 1px, 1px);height: 1px;margin: -1px;overflow: hidden;padding: 0;position: absolute;width: 1px;}#sk-container-id-1 div.sk-estimator {font-family: monospace;background-color: #f0f8ff;border: 1px dotted black;border-radius: 0.25em;box-sizing: border-box;margin-bottom: 0.5em;}#sk-container-id-1 div.sk-estimator:hover {background-color: #d4ebff;}#sk-container-id-1 div.sk-parallel-item::after {content: \"\";width: 100%;border-bottom: 1px solid gray;flex-grow: 1;}#sk-container-id-1 div.sk-label:hover label.sk-toggleable__label {background-color: #d4ebff;}#sk-container-id-1 div.sk-serial::before {content: \"\";position: absolute;border-left: 1px solid gray;box-sizing: border-box;top: 0;bottom: 0;left: 50%;z-index: 0;}#sk-container-id-1 div.sk-serial {display: flex;flex-direction: column;align-items: center;background-color: white;padding-right: 0.2em;padding-left: 0.2em;position: relative;}#sk-container-id-1 div.sk-item {position: relative;z-index: 1;}#sk-container-id-1 div.sk-parallel {display: flex;align-items: stretch;justify-content: center;background-color: white;position: relative;}#sk-container-id-1 div.sk-item::before, #sk-container-id-1 div.sk-parallel-item::before {content: \"\";position: absolute;border-left: 1px solid gray;box-sizing: border-box;top: 0;bottom: 0;left: 50%;z-index: -1;}#sk-container-id-1 div.sk-parallel-item {display: flex;flex-direction: column;z-index: 1;position: relative;background-color: white;}#sk-container-id-1 div.sk-parallel-item:first-child::after {align-self: flex-end;width: 50%;}#sk-container-id-1 div.sk-parallel-item:last-child::after {align-self: flex-start;width: 50%;}#sk-container-id-1 div.sk-parallel-item:only-child::after {width: 0;}#sk-container-id-1 div.sk-dashed-wrapped {border: 1px dashed gray;margin: 0 0.4em 0.5em 0.4em;box-sizing: border-box;padding-bottom: 0.4em;background-color: white;}#sk-container-id-1 div.sk-label label {font-family: monospace;font-weight: bold;display: inline-block;line-height: 1.2em;}#sk-container-id-1 div.sk-label-container {text-align: center;}#sk-container-id-1 div.sk-container {/* jupyter's `normalize.less` sets `[hidden] { display: none; }` but bootstrap.min.css set `[hidden] { display: none !important; }` so we also need the `!important` here to be able to override the default hidden behavior on the sphinx rendered scikit-learn.org. See: https://github.com/scikit-learn/scikit-learn/issues/21755 */display: inline-block !important;position: relative;}#sk-container-id-1 div.sk-text-repr-fallback {display: none;}</style><div id=\"sk-container-id-1\" class=\"sk-top-container\"><div class=\"sk-text-repr-fallback\"><pre>LogisticRegression(class_weight=&#x27;balanced&#x27;, max_iter=1000, random_state=2024)</pre><b>In a Jupyter environment, please rerun this cell to show the HTML representation or trust the notebook. <br />On GitHub, the HTML representation is unable to render, please try loading this page with nbviewer.org.</b></div><div class=\"sk-container\" hidden><div class=\"sk-item\"><div class=\"sk-estimator sk-toggleable\"><input class=\"sk-toggleable__control sk-hidden--visually\" id=\"sk-estimator-id-1\" type=\"checkbox\" checked><label for=\"sk-estimator-id-1\" class=\"sk-toggleable__label sk-toggleable__label-arrow\">LogisticRegression</label><div class=\"sk-toggleable__content\"><pre>LogisticRegression(class_weight=&#x27;balanced&#x27;, max_iter=1000, random_state=2024)</pre></div></div></div></div></div>"
      ],
      "text/plain": [
       "LogisticRegression(class_weight='balanced', max_iter=1000, random_state=2024)"
      ]
     },
     "execution_count": 47,
     "metadata": {},
     "output_type": "execute_result"
    }
   ],
   "source": [
    "baseline_model = LogisticRegression(class_weight='balanced', max_iter=1000, random_state=2024)\n",
    "baseline_model.fit(X_train, y_train)"
   ]
  },
  {
   "cell_type": "code",
   "execution_count": 48,
   "metadata": {
    "execution": {
     "iopub.execute_input": "2024-11-18T16:38:22.465292Z",
     "iopub.status.busy": "2024-11-18T16:38:22.464861Z",
     "iopub.status.idle": "2024-11-18T16:38:22.471712Z",
     "shell.execute_reply": "2024-11-18T16:38:22.470426Z",
     "shell.execute_reply.started": "2024-11-18T16:38:22.465253Z"
    },
    "trusted": true
   },
   "outputs": [],
   "source": [
    "y_pred = baseline_model.predict(X_test)"
   ]
  },
  {
   "cell_type": "markdown",
   "metadata": {},
   "source": [
    "Произведем оценку качества получившийся модели с помощью f1 метрики."
   ]
  },
  {
   "cell_type": "code",
   "execution_count": 49,
   "metadata": {
    "execution": {
     "iopub.execute_input": "2024-11-18T16:38:25.969450Z",
     "iopub.status.busy": "2024-11-18T16:38:25.968905Z",
     "iopub.status.idle": "2024-11-18T16:38:25.981837Z",
     "shell.execute_reply": "2024-11-18T16:38:25.980710Z",
     "shell.execute_reply.started": "2024-11-18T16:38:25.969402Z"
    },
    "trusted": true
   },
   "outputs": [
    {
     "data": {
      "text/plain": [
       "0.8834355828220859"
      ]
     },
     "execution_count": 49,
     "metadata": {},
     "output_type": "execute_result"
    }
   ],
   "source": [
    "f1_score(y_test, y_pred)"
   ]
  },
  {
   "cell_type": "markdown",
   "metadata": {},
   "source": [
    "Для визуализации результата работы модели воспользуемся матрицой ошибок. "
   ]
  },
  {
   "cell_type": "code",
   "execution_count": 50,
   "metadata": {
    "execution": {
     "iopub.execute_input": "2024-11-18T16:43:18.934461Z",
     "iopub.status.busy": "2024-11-18T16:43:18.933997Z",
     "iopub.status.idle": "2024-11-18T16:43:18.995414Z",
     "shell.execute_reply": "2024-11-18T16:43:18.994020Z",
     "shell.execute_reply.started": "2024-11-18T16:43:18.934419Z"
    },
    "trusted": true
   },
   "outputs": [
    {
     "data": {
      "text/html": [
       "<iframe\n",
       "    scrolling=\"no\"\n",
       "    width=\"100%\"\n",
       "    height=\"545px\"\n",
       "    src=\"iframe_figures/figure_50.html\"\n",
       "    frameborder=\"0\"\n",
       "    allowfullscreen\n",
       "></iframe>\n"
      ]
     },
     "metadata": {},
     "output_type": "display_data"
    }
   ],
   "source": [
    "cm = confusion_matrix(y_test, y_pred)\n",
    "\n",
    "fig = ff.create_annotated_heatmap(\n",
    "    z=cm,\n",
    "    x=['Predicted No', 'Predicted Yes'],\n",
    "    y=['Actual No', 'Actual Yes'],\n",
    ")\n",
    "fig.update_layout(title='Матрица ошибок')\n",
    "fig.show(renderer='iframe')"
   ]
  },
  {
   "cell_type": "markdown",
   "metadata": {},
   "source": [
    "Спасибо за внимание ❤"
   ]
  }
 ],
 "metadata": {
  "kaggle": {
   "accelerator": "none",
   "dataSources": [
    {
     "datasetId": 5868381,
     "sourceId": 9616093,
     "sourceType": "datasetVersion"
    }
   ],
   "dockerImageVersionId": 30786,
   "isGpuEnabled": false,
   "isInternetEnabled": true,
   "language": "python",
   "sourceType": "notebook"
  },
  "kernelspec": {
   "display_name": "Python 3",
   "language": "python",
   "name": "python3"
  },
  "language_info": {
   "codemirror_mode": {
    "name": "ipython",
    "version": 3
   },
   "file_extension": ".py",
   "mimetype": "text/x-python",
   "name": "python",
   "nbconvert_exporter": "python",
   "pygments_lexer": "ipython3",
   "version": "3.8.10"
  }
 },
 "nbformat": 4,
 "nbformat_minor": 4
}
